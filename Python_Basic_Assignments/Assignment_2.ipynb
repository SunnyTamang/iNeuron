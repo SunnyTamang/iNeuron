{
 "cells": [
  {
   "cell_type": "markdown",
   "metadata": {},
   "source": [
    "<h1 align='center'>Assignment 2</h1>"
   ]
  },
  {
   "cell_type": "markdown",
   "metadata": {},
   "source": [
    "---"
   ]
  },
  {
   "cell_type": "markdown",
   "metadata": {},
   "source": [
    "1. What are the Boolean data type's two values? How do you go about writing them?\n",
    "\n",
    "Answer: Boolean data types have below two values\n",
    "    a. True\n",
    "    b. False\n",
    "\n",
    "To write boolean values first character should be caps. For example:\n",
    "\n",
    "    a = True\n",
    "    b = False"
   ]
  },
  {
   "cell_type": "markdown",
   "metadata": {},
   "source": [
    "2\\. What are the three different types of Boolean operators?\n",
    "\n",
    "\n",
    "Answer: Below are the three boolean operators: \n",
    "\n",
    "1. AND\n",
    "2. OR \n",
    "3. NOT"
   ]
  },
  {
   "cell_type": "markdown",
   "metadata": {},
   "source": [
    "3\\. Make a list of each Boolean operator's truth tables (i.e. every possible combination of Boolean values for the operator and what it evaluate ).\n",
    "\n",
    "Answer: Truth Table for AND operator:\n",
    "\n",
    "            \n",
    "          0  |   1   |   0\n",
    "          1  |   0   |   0\n",
    "          0  |   0   |   0\n",
    "          1  |   1   |   1\n",
    "\n",
    "        Truth Table for OR operator:\n",
    "\n",
    "          0  |   1   |   1\n",
    "          1  |   0   |   1\n",
    "          0  |   0   |   0\n",
    "          1  |   1   |   1\n",
    "\n",
    "        Truth Table for NOT operator:\n",
    "\n",
    "          0  |   1\n",
    "          1  |   0\n",
    "         "
   ]
  },
  {
   "cell_type": "markdown",
   "metadata": {},
   "source": [
    "4\\. What are the values of the following expressions?\n",
    "\n",
    "(5 > 4) and (3 == 5)\n",
    "\n",
    "not (5 > 4)\n",
    "\n",
    "(5 > 4) or (3 == 5)\n",
    "\n",
    "not ((5 > 4) or (3 == 5))\n",
    "\n",
    "(True and True) and (True == False)\n",
    "\n",
    "(not False) or (not True)\n",
    "\n",
    "\n",
    "Answer: \n",
    "(5 > 4) and (3 == 5) : False\n",
    "\n",
    "not (5 > 4) : False\n",
    "\n",
    "(5 > 4) or (3 == 5) : True\n",
    "\n",
    "not ((5 > 4) or (3 == 5)) False\n",
    "\n",
    "(True and True) and (True == False) : False\n",
    "\n",
    "(not False) or (not True) : True\n"
   ]
  },
  {
   "cell_type": "markdown",
   "metadata": {},
   "source": [
    "5\\. What are the six comparison operators?\n",
    "\n",
    "Answer: \n",
    "\n",
    "        ==\n",
    "        >=\n",
    "        <=\n",
    "        >\n",
    "        <\n",
    "        !="
   ]
  },
  {
   "cell_type": "markdown",
   "metadata": {},
   "source": [
    "6\\. How do you tell the difference between the equal to and assignment operators?Describe a\r\n",
    "condition and when you would use one.\r\n",
    "\r\n",
    "Answer: \r\n",
    "\r\n",
    "Assignment operators assign the values to a variable. \r\n",
    "\r\n",
    "> For example: a = 5 \r\n",
    "\r\n",
    "Equal to is to compare two variables if they are equal or not. \r\n",
    "\r\n",
    "> For example: a = 4 b = 3 print(a == b)"
   ]
  },
  {
   "cell_type": "markdown",
   "metadata": {},
   "source": [
    "7\\. Identify the three blocks in this code:\r\n",
    "\r\n",
    "spam = 0<br>\r\n",
    "if spam == 10:<br>\r\n",
    "    &emsp;print('eggs')<br>\r\n",
    "    &ensp;if spam > 5:<br>\r\n",
    "    &emsp;print('bacon')<br>\r\n",
    "    &ensp;else:<br>\r\n",
    "    &emsp;print('ham')<br>\r\n",
    "    &ensp;print('spam')<br>\r\n",
    "print('spam')<br>\r\n",
    "\r\n",
    "\r\n",
    "\r\n",
    "Answer: \r\n",
    "\r\n",
    "First block:\r\n",
    "\r\n",
    "        if spam == 10:\r\n",
    "          print('eggs')\r\n",
    "\r\n",
    "Second block:\r\n",
    "\r\n",
    "        if spam > 5:\r\n",
    "          print('bacon')\r\n",
    "        \r\n",
    "Third block:\r\n",
    "\r\n",
    "        else:\r\n",
    "          print('ham')\r\n"
   ]
  },
  {
   "cell_type": "markdown",
   "metadata": {},
   "source": [
    "8\\. Write code that prints Hello if 1 is stored in spam, prints Howdy if 2 is stored in spam, and prints Greetings! if anything else is stored in spam.\r\n"
   ]
  },
  {
   "cell_type": "code",
   "execution_count": null,
   "metadata": {},
   "outputs": [],
   "source": [
    "spam = input(\"Give the value of spam in numbers: \")\n",
    "if spam == 1 : \n",
    "    print(\"Hello\")\n",
    "elif spam == 2 : \n",
    "    print(\"Howdy\")\n",
    "else :\n",
    "    print(\"Greetings!\")"
   ]
  },
  {
   "cell_type": "markdown",
   "metadata": {},
   "source": [
    "9\\. If your programme is stuck in an endless loop, what keys you’ll press?\r\n",
    "\r\n",
    "Answer:\r\n",
    "\r\n",
    "CTRL + C"
   ]
  },
  {
   "cell_type": "markdown",
   "metadata": {},
   "source": [
    "10\\. How can you tell the difference between break and continue?\r\n",
    "\r\n",
    "Answer:\r\n",
    "\r\n",
    "Break statement will break out of any loop and conditional statement immideatly \r\n",
    "Continue statement will skip the next LOC and returns to loop again or breaks the current iteration when the encounters continue statement"
   ]
  },
  {
   "cell_type": "markdown",
   "metadata": {},
   "source": [
    "11\\. In a for loop, what is the difference between range(10), range(0, 10), and range(0, 10, 1)?\r\n",
    "\r\n",
    "Answer:\r\n",
    "\r\n",
    "range(10) will start the range from 0 t0 10 excluding the upper bound.\r\n",
    "\r\n",
    "range(0,10) is same as range(10) that  will start the range from 0 t0 10 excluding the upper bound.\r\n",
    "\r\n",
    "range(0,10,1) is same as range(10) or range(0,10) that will start from 0 to 10 with 1 as next step and upperbound is excluded."
   ]
  },
  {
   "cell_type": "markdown",
   "metadata": {},
   "source": [
    "12\\. Write a short program that prints the numbers 1 to 10 using a for loop. Then write an equivalent program that prints the numbers 1 to 10 using a while loop."
   ]
  },
  {
   "cell_type": "code",
   "execution_count": 1,
   "metadata": {},
   "outputs": [
    {
     "name": "stdout",
     "output_type": "stream",
     "text": [
      "0\n",
      "1\n",
      "2\n",
      "3\n",
      "4\n",
      "5\n",
      "6\n",
      "7\n",
      "8\n",
      "9\n"
     ]
    }
   ],
   "source": [
    "for i in range(0,10,1):\n",
    "    print(i)"
   ]
  },
  {
   "cell_type": "code",
   "execution_count": 2,
   "metadata": {},
   "outputs": [
    {
     "name": "stdout",
     "output_type": "stream",
     "text": [
      "0\n",
      "1\n",
      "2\n",
      "3\n",
      "4\n",
      "5\n",
      "6\n",
      "7\n",
      "8\n",
      "9\n"
     ]
    }
   ],
   "source": [
    "i=0\n",
    "while(i<10):\n",
    "    print(i)\n",
    "    i += 1"
   ]
  },
  {
   "cell_type": "markdown",
   "metadata": {},
   "source": [
    "13\\. If you had a function named bacon() inside a module named spam, how would you call it after importing spam?\r\n",
    "\r\n",
    "Answer: We will create an object at the time of importing the spame module, we can call the bacon() function using a .(dot) operator\r\n",
    "\r\n",
    "> For ex:\r\n",
    ">> import spam as sp \r\n",
    ">> sp.bacon()\r\n",
    "\r\n",
    "OR \r\n",
    "\r\n",
    "We can import spam module and then can call bacon() with a .(Dot) operator.\r\n",
    "\r\n",
    "> For ex:\r\n",
    ">> import spam\r\n",
    ">> sp = spam.bacon()"
   ]
  }
 ],
 "metadata": {
  "interpreter": {
   "hash": "247ab06e135bb35fa78c5eff31b2a9a0050dcb5fb773c2631d2a29ac689eeccb"
  },
  "kernelspec": {
   "display_name": "Python 3.9.0 64-bit",
   "name": "python3"
  },
  "language_info": {
   "name": "python",
   "version": ""
  }
 },
 "nbformat": 4,
 "nbformat_minor": 2
}