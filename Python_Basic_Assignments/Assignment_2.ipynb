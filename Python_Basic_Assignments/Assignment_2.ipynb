{
 "cells": [
  {
   "cell_type": "markdown",
   "metadata": {},
   "source": [
    "1.What are the Boolean data type's two values? How do you go about writing them?\n",
    "\n",
    "Answer: Boolean data types have below two values\n",
    "    a. True\n",
    "    b. False\n",
    "\n",
    "    To write boolean values first character should be caps. For example:\n",
    "\n",
    "    a = True\n",
    "    b = False"
   ]
  },
  {
   "cell_type": "markdown",
   "metadata": {},
   "source": [
    "2.What are the three different types of Boolean operators?\n",
    "\n",
    "\n",
    "Answer: Below are the three boolean operators: a) AND b) OR c) NOT"
   ]
  },
  {
   "cell_type": "markdown",
   "metadata": {},
   "source": [
    "3.Make a list of each Boolean operator's truth tables (i.e. every possible combination of Boolean values for the operator and what it evaluate ).\n",
    "\n",
    "Answer: Truth Table for AND operator:\n",
    "\n",
    "            \n",
    "          0  |   1   |   0\n",
    "          1  |   0   |   0\n",
    "          0  |   0   |   0\n",
    "          1  |   1   |   1\n",
    "\n",
    "        Truth Table for OR operator:\n",
    "\n",
    "          0  |   1   |   1\n",
    "          1  |   0   |   1\n",
    "          0  |   0   |   0\n",
    "          1  |   1   |   1\n",
    "\n",
    "        Truth Table for NOT operator:\n",
    "\n",
    "          0  |   1\n",
    "          1  |   0\n",
    "         "
   ]
  },
  {
   "cell_type": "markdown",
   "metadata": {},
   "source": [
    "4.What are the values of the following expressions?\n",
    "\n",
    "(5 > 4) and (3 == 5)\n",
    "not (5 > 4)\n",
    "(5 > 4) or (3 == 5)\n",
    "not ((5 > 4) or (3 == 5))\n",
    "(True and True) and (True == False)\n",
    "(not False) or (not True)\n",
    "\n",
    "\n",
    "Answer: \n",
    "(5 > 4) and (3 == 5) : False\n",
    "not (5 > 4) : False\n",
    "(5 > 4) or (3 == 5) : True\n",
    "not ((5 > 4) or (3 == 5)) False\n",
    "(True and True) and (True == False) : False\n",
    "(not False) or (not True) : True\n"
   ]
  },
  {
   "cell_type": "markdown",
   "metadata": {},
   "source": [
    "5.What are the six comparison operators?\n",
    "\n",
    "Answer: ==\n",
    "        >=\n",
    "        <=\n",
    "        >\n",
    "        <\n",
    "        !="
   ]
  },
  {
   "cell_type": "markdown",
   "metadata": {},
   "source": [
    "6.What is the difference between the equal to operator and the assignment operator?\n",
    "\n",
    "Answer: Assignment operators assign the values to a variable. For example: a = 5\n",
    "        Equal to is to compare two variables if they are equal or not. For example: \n",
    "        a = 4\n",
    "        b = 3\n",
    "        print(a == b)"
   ]
  },
  {
   "cell_type": "markdown",
   "metadata": {},
   "source": [
    "7.Explain what a condition is and where you would use one.\n",
    "\n",
    "Answer: A condition is a statement that can be used as a filter which provide the results based on that certain condition/criteria. We can use a condition if we want to filter the results or if we want to the outcome based on the requirment of the given problem statement.\n",
    "For example:\n",
    "If the condition is true then only certain action will take place or else control will pass to next statement."
   ]
  },
  {
   "cell_type": "markdown",
   "metadata": {},
   "source": [
    "8.Identify the three blocks in this code:\n",
    "\n",
    "spam = 0\n",
    "if spam == 10:\n",
    "    print('eggs')\n",
    "    if spam > 5:\n",
    "        print('bacon')\n",
    "    else:\n",
    "        print('ham')\n",
    "    print('spam')\n",
    "print('spam')\n",
    "\n",
    "\n",
    "\n",
    "Answer: First block:\n",
    "        if spam == 10:\n",
    "          print('eggs')\n",
    "\n",
    "        Second block:\n",
    "        if spam > 5:\n",
    "          print('bacon')\n",
    "        \n",
    "        Third block:\n",
    "        else:\n",
    "          print('ham')\n"
   ]
  },
  {
   "cell_type": "markdown",
   "metadata": {},
   "source": [
    "9.Write code that prints Hello if 1 is stored in spam, prints Howdy if 2 is stored in spam, and prints Greetings! if anything else is stored in spam.\n"
   ]
  },
  {
   "cell_type": "code",
   "execution_count": null,
   "metadata": {},
   "outputs": [],
   "source": [
    "spam = input(\"Give the value of spam in numbers: \")\n",
    "if spam == 1 : \n",
    "    print(\"Hello\")\n",
    "elif spam == 2 : \n",
    "    print(\"Howdy\")\n",
    "else :\n",
    "    print(\"Greetings!\")"
   ]
  },
  {
   "cell_type": "markdown",
   "metadata": {},
   "source": [
    "10.What keys can you press if your program is stuck in an infinite loop?\n",
    "\n"
   ]
  },
  {
   "cell_type": "markdown",
   "metadata": {},
   "source": [
    "11.What is the difference between break and continue?\n",
    "\n",
    "Answer: Break statement will break out of any loop and conditional statement immideatly \n",
    "Continue statement will skip the next LOC and returns to loop again or breaks the current iteration when the encounters continue statement"
   ]
  },
  {
   "cell_type": "markdown",
   "metadata": {},
   "source": [
    "12.What is the difference between range(10), range(0, 10), and range(0, 10, 1) in a for loop?\n",
    "\n",
    "Answer: range(10) will start the range from 0 t0 10 excluding the upper bound.\n",
    "range(0,10) is same as range(10) that  will start the range from 0 t0 10 excluding the upper bound.\n",
    "range(0,10,1) is same as range(10) or range(0,10) that will start from 0 to 10 with 1 as next step and upperbound is excluded."
   ]
  },
  {
   "cell_type": "markdown",
   "metadata": {},
   "source": [
    "13.Write a short program that prints the numbers 1 to 10 using a for loop. Then write an equivalent program that prints the numbers 1 to 10 using a while loop."
   ]
  },
  {
   "cell_type": "code",
   "execution_count": null,
   "metadata": {},
   "outputs": [],
   "source": [
    "for i in range(0,10,1):\n",
    "    print(i)"
   ]
  },
  {
   "cell_type": "code",
   "execution_count": null,
   "metadata": {},
   "outputs": [],
   "source": [
    "i=0\n",
    "while(i<10):\n",
    "    print(i)\n",
    "    i += 1"
   ]
  },
  {
   "cell_type": "markdown",
   "metadata": {},
   "source": [
    "14.If you had a function named bacon() inside a module named spam, how would you call it after importing spam?\n",
    "\n",
    "Answer: We will create an object at the time of importing the spame module, we can call the bacon() function using a .(dot) operator\n",
    "\n",
    "For ex:\n",
    "import spam as sp \n",
    "sp.bacon()\n",
    "\n",
    "OR \n",
    "\n",
    "We can import spam module and then can call bacon() with a .(Dot) operator\n",
    "import spam\n",
    "sp = spam.bacon()"
   ]
  }
 ],
 "metadata": {
  "kernelspec": {
   "display_name": "Python 3",
   "language": "python",
   "name": "python3"
  },
  "language_info": {
   "codemirror_mode": {
    "name": "ipython",
    "version": 3
   },
   "file_extension": ".py",
   "mimetype": "text/x-python",
   "name": "python",
   "nbconvert_exporter": "python",
   "pygments_lexer": "ipython3",
   "version": "3.8.3"
  }
 },
 "nbformat": 4,
 "nbformat_minor": 2
}
