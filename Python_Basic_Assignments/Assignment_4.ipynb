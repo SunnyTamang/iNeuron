{
 "cells": [
  {
   "cell_type": "markdown",
   "metadata": {},
   "source": [
    " <h1 align='center'>Python Basic Assignment 4</h1>\r\n"
   ]
  },
  {
   "cell_type": "markdown",
   "metadata": {},
   "source": [
    "***"
   ]
  },
  {
   "cell_type": "markdown",
   "metadata": {},
   "source": [
    "> 1\\. What exactly is []?\r\n",
    "\r\n",
    "Answer: [] sign signifies a list."
   ]
  },
  {
   "cell_type": "markdown",
   "metadata": {},
   "source": [
    "> 2\\. In a list of values stored in a variable called spam, how would you assign the value 'hello' as the\r\n",
    "third value? (Assume [2, 4, 6, 8, 10] are in spam.)\r\n",
    "\r\n",
    "Answer:\r\n",
    "\r\n",
    "spam[2] = 'hello'\r\n"
   ]
  },
  {
   "cell_type": "markdown",
   "metadata": {},
   "source": [
    "### Let's pretend the spam includes the list ['a', 'b', 'c', 'd'] for the next three queries."
   ]
  },
  {
   "cell_type": "markdown",
   "metadata": {},
   "source": [
    "> 3\\. What is the value of spam[int(int('3' * 2) / 11)]?\r\n",
    "\r\n",
    "Answers: 'd'"
   ]
  },
  {
   "cell_type": "markdown",
   "metadata": {},
   "source": [
    "> 4\\. What is the value of spam[-1]?\r\n",
    "\r\n",
    "Answer: 'd'"
   ]
  },
  {
   "cell_type": "markdown",
   "metadata": {},
   "source": [
    "> 5\\. What is the value of spam[:2]?\r\n",
    "\r\n",
    "Answer: ['a','b']"
   ]
  },
  {
   "cell_type": "markdown",
   "metadata": {},
   "source": [
    "### Let's pretend bacon has the list [3.14, 'cat', 11, 'cat', True] for the next three questions."
   ]
  },
  {
   "cell_type": "markdown",
   "metadata": {},
   "source": [
    "> 6\\. What is the value of bacon.index('cat')?\r\n",
    "\r\n",
    "Answer: 1"
   ]
  },
  {
   "cell_type": "markdown",
   "metadata": {},
   "source": [
    "> 7\\. How does bacon.append(99) change the look of the list value in bacon?\r\n",
    "\r\n",
    "Answer: [3.14, 'cat', 11, 'cat', True, 99]\r\n"
   ]
  },
  {
   "cell_type": "markdown",
   "metadata": {},
   "source": [
    "> 8\\. How does bacon.remove('cat') change the look of the list in bacon?\r\n",
    "\r\n",
    "Answer: [3.14, 11, 'cat', True]\r\n"
   ]
  },
  {
   "cell_type": "markdown",
   "metadata": {},
   "source": [
    "> 9\\. What are the list concatenation and list replication operators?\r\n",
    "\r\n",
    "Answer:\r\n",
    "\r\n",
    "'+' sign will concatenate the list and '*' sign will replicate the list"
   ]
  },
  {
   "cell_type": "markdown",
   "metadata": {},
   "source": [
    "> 10\\. What is difference between the list methods append() and insert()?\r\n",
    "\r\n",
    "Answer:\r\n",
    "\r\n",
    "list.append() will add the element in the last position of the list and list.insert() takes two argumemnts as object to be inserted and the index postition where we want to insert it"
   ]
  },
  {
   "cell_type": "markdown",
   "metadata": {},
   "source": [
    "> 11\\. What are the two methods for removing items from a list?\r\n",
    "\r\n",
    "Answer:\r\n",
    "\r\n",
    "list.remove() and list.pop()\r\n"
   ]
  },
  {
   "cell_type": "markdown",
   "metadata": {},
   "source": [
    "> 12\\. Describe how list values and string values are identical.\r\n",
    "\r\n",
    "Answer:\r\n",
    "\r\n",
    "List is a collection of objects and string are collection of character. Just like list we can traverse through each element/substring of a string.\r\n",
    "\r\n",
    "For example:\r\n",
    "\r\n",
    "    list = [1,2,'hello']\r\n",
    "    print(list[0:2])\r\n",
    "    str = 'hello'\r\n",
    "    print(str[0:2])\r\n"
   ]
  },
  {
   "cell_type": "markdown",
   "metadata": {},
   "source": [
    "> 13\\. What's the difference between tuples and lists?\r\n",
    "\r\n",
    "Answer:\r\n",
    "\r\n",
    "- Tuples are immutable and list are mutable. We can manipulate the list but not the tuples.\r\n",
    "- Tuples are signified using () where list are signified using []"
   ]
  },
  {
   "cell_type": "markdown",
   "metadata": {},
   "source": [
    "> 14\\. How do you type a tuple value that only contains the integer 42?\r\n",
    "\r\n",
    "Answer:\r\n",
    "\r\n",
    "(42,)"
   ]
  },
  {
   "cell_type": "markdown",
   "metadata": {},
   "source": [
    "> 15\\. How do you get a list value's tuple form? How do you get a tuple value's list form?\r\n",
    "\r\n",
    "Answer:\r\n",
    "\r\n",
    "We can use type casting while printing the value.\r\n",
    "\r\n",
    "- from list to tuple\r\n",
    "\r\n",
    "        print(tuple(list))\r\n",
    "\r\n",
    "- from tuple to list\r\n",
    "\r\n",
    "        print(list(tuple))\r\n"
   ]
  },
  {
   "cell_type": "markdown",
   "metadata": {},
   "source": [
    "> 16\\. Variables that \"contain\" list values are not necessarily lists themselves. Instead, what do they contain?\r\n",
    "\r\n",
    "Answer:\r\n",
    "\r\n",
    "They contain the reference in memory to values instead of storing the value itself."
   ]
  },
  {
   "cell_type": "markdown",
   "metadata": {},
   "source": [
    "> 17\\. How do you distinguish between copy.copy() and copy.deepcopy()?\r\n",
    "\r\n",
    "Answer:\r\n",
    "\r\n",
    "- copy.copy also known as shallow copy creates a new collection and the values are in it are not copied but are the refrene of the orignial collection. Hence any change made in the copied collection gets reflected in original collection as well.\r\n",
    "\r\n",
    "- copy.deepcopy also known as deep copy crates an entirely new collection with the new copied values. Hence any change in the copied collection does not affect the original collection."
   ]
  }
 ],
 "metadata": {
  "interpreter": {
   "hash": "247ab06e135bb35fa78c5eff31b2a9a0050dcb5fb773c2631d2a29ac689eeccb"
  },
  "kernelspec": {
   "display_name": "Python 3.9.0 64-bit",
   "name": "python3"
  },
  "language_info": {
   "codemirror_mode": {
    "name": "ipython",
    "version": 3
   },
   "file_extension": ".py",
   "mimetype": "text/x-python",
   "name": "python",
   "nbconvert_exporter": "python",
   "pygments_lexer": "ipython3",
   "version": "3.9.0"
  },
  "orig_nbformat": 4
 },
 "nbformat": 4,
 "nbformat_minor": 2
}