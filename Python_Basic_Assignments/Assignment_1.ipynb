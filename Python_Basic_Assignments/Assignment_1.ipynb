{
 "cells": [
  {
   "cell_type": "markdown",
   "metadata": {},
   "source": [
    "1. Which of the following are operators, and which are values?\n",
    "\n",
    "*\n",
    "Ans: It is a multiplication operator\n",
    "\n",
    "'hello' \n",
    "\n",
    "Ans: It is a string value\n",
    "\n",
    "-87.8 \n",
    "\n",
    "Ans: It is a floating-point number\n",
    "\n",
    "-\n",
    "\n",
    "Ans: It is a subtraction operator\n",
    "\n",
    "/\n",
    "\n",
    "Ans: It is a division operator\n",
    "\n",
    "+\n",
    "\n",
    "Ans: It is an addition operator\n",
    "\n",
    "6\n",
    "\n",
    "Ans: It is an integer value\n"
   ]
  },
  {
   "cell_type": "markdown",
   "metadata": {},
   "source": [
    "2. Which of the following is a variable, and which is a string?\n",
    "\n",
    "spam\n",
    "\n",
    "'spam'\n",
    "\n",
    "Answer:\n",
    "\n",
    "        spam = variable\n",
    "        'spam' = string"
   ]
  },
  {
   "cell_type": "markdown",
   "metadata": {},
   "source": [
    "3. Name three data types.\n",
    "\n",
    "Answer:\n",
    "The three data forms are as follows:\n",
    "\n",
    "1.\tinteger\n",
    "2.\tfloat\n",
    "3.\tstring\n"
   ]
  },
  {
   "cell_type": "markdown",
   "metadata": {},
   "source": [
    "4. What is an expression made up of? What do all expressions do?\n",
    "\n",
    "Answer:\n",
    "\n",
    "Combination of operators and operands makes up an expression. For ex: a+b=2\n",
    "\n",
    "Here a and b are operands, + and = are operators and 2 is the resultant of the expression.\n",
    "\n",
    "All expression should return some results.\n"
   ]
  },
  {
   "cell_type": "markdown",
   "metadata": {},
   "source": [
    "5. This chapter introduced assignment statements, like spam = 10. What is the difference between an expression and a statement?\n",
    "\n",
    "Answer:\n",
    "\n",
    "spam = 10\n",
    "\n",
    "Expression gives some results from the combination of operators and operands.\n",
    "\n",
    "Statment does not return anything.\n",
    "\n",
    "Example:\n",
    "\n",
    "expression- a+b=2\n",
    "\n",
    "statement- a=2\n"
   ]
  },
  {
   "cell_type": "markdown",
   "metadata": {},
   "source": [
    "6. What does the variable bacon contain after the following code runs?\n",
    "\n",
    "bacon = 20\n",
    "\n",
    "bacon + 1\n"
   ]
  },
  {
   "cell_type": "code",
   "execution_count": 1,
   "metadata": {
    "scrolled": true
   },
   "outputs": [
    {
     "output_type": "stream",
     "name": "stdout",
     "text": [
      "20\n"
     ]
    }
   ],
   "source": [
    "bacon = 20\n",
    "bacon + 1\n",
    "print(bacon)"
   ]
  },
  {
   "cell_type": "markdown",
   "metadata": {},
   "source": [
    "7. What should the following two expressions evaluate to?\n",
    "\n",
    "'spam' + 'spamspam'\n",
    "\n",
    "'spam' * 3\n"
   ]
  },
  {
   "cell_type": "code",
   "execution_count": 2,
   "metadata": {},
   "outputs": [
    {
     "output_type": "execute_result",
     "data": {
      "text/plain": [
       "'spamspamspam'"
      ]
     },
     "metadata": {},
     "execution_count": 2
    }
   ],
   "source": [
    "'spam' + 'spamspam'"
   ]
  },
  {
   "cell_type": "code",
   "execution_count": 3,
   "metadata": {},
   "outputs": [
    {
     "output_type": "execute_result",
     "data": {
      "text/plain": [
       "'spamspamspam'"
      ]
     },
     "metadata": {},
     "execution_count": 3
    }
   ],
   "source": [
    "'spam' * 3"
   ]
  },
  {
   "cell_type": "markdown",
   "metadata": {},
   "source": [
    "8. Why is eggs a valid variable name while 100 is invalid?\n",
    "\n",
    "Answer:\n",
    "eggs are true variable name as it fits the variable naming convention whereas 100 can be considered as integer value of the variable\n"
   ]
  },
  {
   "cell_type": "markdown",
   "metadata": {},
   "source": [
    "9. What three functions can be used to get the integer, floating-point number, or string version of a value?\n",
    "\n",
    "Answers:\n",
    "\n",
    "1. int()\n",
    "2. float()\n",
    "3. str()"
   ]
  },
  {
   "cell_type": "markdown",
   "metadata": {},
   "source": [
    "10. Why does this expression cause an error? How can you fix it?\n",
    "\n",
    "'I have eaten ' + 99 + ' burritos.'\n",
    "\n",
    "Answer:\n",
    "Above statment will cause an error because string concatenation can be done with string values only not with integer values.\n",
    "\n",
    "   To overcome the error we will convert 99 integer value to string using str()\n",
    "\n",
    "'I have eaten ' + str(99) + ' burritos.'"
   ]
  }
 ],
 "metadata": {
  "kernelspec": {
   "display_name": "Python 3",
   "language": "python",
   "name": "python3"
  },
  "language_info": {
   "codemirror_mode": {
    "name": "ipython",
    "version": 3
   },
   "file_extension": ".py",
   "mimetype": "text/x-python",
   "name": "python",
   "nbconvert_exporter": "python",
   "pygments_lexer": "ipython3",
   "version": "3.8.3-final"
  }
 },
 "nbformat": 4,
 "nbformat_minor": 4
}