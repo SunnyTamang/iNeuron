{
 "cells": [
  {
   "cell_type": "markdown",
   "metadata": {},
   "source": [
    " <h1 align='center'>Python Basic Assignment 13</h1>"
   ]
  },
  {
   "cell_type": "markdown",
   "metadata": {},
   "source": [
    "***"
   ]
  },
  {
   "cell_type": "markdown",
   "metadata": {},
   "source": [
    ">1\\. What advantages do Excel spreadsheets have over CSV spreadsheets?"
   ]
  },
  {
   "cell_type": "markdown",
   "metadata": {},
   "source": [
    "Answer: Excel spreadsheets can Reading large data set is much easier<br>\n",
    "adjacent cells can be merged in spreadsheet<br>\n",
    "We can add images as well in spreadsheet"
   ]
  },
  {
   "cell_type": "markdown",
   "metadata": {},
   "source": [
    ">2\\. What do you pass to csv.reader() and csv.writer() to create reader and writer objects?"
   ]
  },
  {
   "cell_type": "markdown",
   "metadata": {},
   "source": [
    "Answer: We pass file object"
   ]
  },
  {
   "cell_type": "markdown",
   "metadata": {},
   "source": [
    ">3\\. What modes do File objects for reader and writer objects need to be opened in?"
   ]
  },
  {
   "cell_type": "markdown",
   "metadata": {},
   "source": [
    "Answer: Read-Binary and Write-Binary"
   ]
  },
  {
   "cell_type": "markdown",
   "metadata": {},
   "source": [
    ">4\\. What method takes a list argument and writes it to a CSV file?"
   ]
  },
  {
   "cell_type": "markdown",
   "metadata": {},
   "source": [
    "Answer: writerow() method."
   ]
  },
  {
   "cell_type": "markdown",
   "metadata": {},
   "source": [
    ">5\\. What do the keyword arguments delimiter and line terminator do?"
   ]
  },
  {
   "cell_type": "markdown",
   "metadata": {},
   "source": [
    "Answer: The delimiter changes the string used to separate cells in a row whereas the line terminator changes the string used to separate rows."
   ]
  },
  {
   "cell_type": "markdown",
   "metadata": {},
   "source": [
    ">6\\. What function takes a string of JSON data and returns a Python data structure?"
   ]
  },
  {
   "cell_type": "markdown",
   "metadata": {},
   "source": [
    "Answer: json.loads()"
   ]
  },
  {
   "cell_type": "markdown",
   "metadata": {},
   "source": [
    ">7\\. What function takes a Python data structure and returns a string of JSON data?"
   ]
  },
  {
   "cell_type": "markdown",
   "metadata": {},
   "source": [
    "Answer: json.dumps()"
   ]
  }
 ],
 "metadata": {
  "interpreter": {
   "hash": "916dbcbb3f70747c44a77c7bcd40155683ae19c65e1c03b4aa3499c5328201f1"
  },
  "kernelspec": {
   "display_name": "Python 3.8.10 64-bit",
   "language": "python",
   "name": "python3"
  },
  "language_info": {
   "name": "python",
   "version": "3.8.10"
  },
  "orig_nbformat": 4
 },
 "nbformat": 4,
 "nbformat_minor": 2
}
