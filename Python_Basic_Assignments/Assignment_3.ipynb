{
 "cells": [
  {
   "cell_type": "markdown",
   "metadata": {},
   "source": [
    " <h1 align='center'>Python Basic Assignment 3</h1>\r\n"
   ]
  },
  {
   "cell_type": "markdown",
   "metadata": {},
   "source": [
    "***"
   ]
  },
  {
   "cell_type": "markdown",
   "metadata": {},
   "source": [
    "> 1\\. Why are functions advantageous to have in your program?\r\n",
    "\r\n",
    " Answer:\r\n",
    " \r\n",
    " Functions makes the code modular, dynamic and reusable. It makes it easy to modify any piece of code if faced any issue just in no time.\r\n",
    "\r\n",
    " "
   ]
  },
  {
   "cell_type": "markdown",
   "metadata": {},
   "source": [
    ">2\\. When does the code in a function run: when it&#39;s specified or when it&#39;s called?\r\n",
    "\r\n",
    "Answer:\r\n",
    "\r\n",
    "When the function is defined/specified it should always be done before it is called. As to make the compiler aware, that there is this function which you might call later in code. And when you call that function then the code block inside the function executes."
   ]
  },
  {
   "cell_type": "markdown",
   "metadata": {},
   "source": [
    ">3\\. What statement creates a function?\r\n",
    "\r\n",
    "Answer: \r\n",
    "\r\n",
    "\"def function_name:\" creates a function\r\n",
    "\r\n",
    "            def function_name:\r\n",
    "                pass"
   ]
  },
  {
   "cell_type": "markdown",
   "metadata": {},
   "source": [
    ">4\\. What is the difference between a function and a function call?\r\n",
    "\r\n",
    "Answer:\r\n",
    "\r\n",
    "A function is a block of code where the logic of the problem situation is written and will return a value depending upon the situation.<br>\r\n",
    "For example:\r\n",
    "\r\n",
    "    def add(a,b):\r\n",
    "        return a + b\r\n",
    "\r\n",
    "or\r\n",
    "\r\n",
    "    def check(a,b):\r\n",
    "        if(a>b):\r\n",
    "            print(\"a is greater\")\r\n",
    "        else:\r\n",
    "            print(\"b is greater\")\r\n",
    "\r\n",
    "Whereas a function call is a statement where the function is called which pass the flow of control of the program to the function which gets executed and returns/prints output depending upon the conditions.\r\n"
   ]
  },
  {
   "cell_type": "markdown",
   "metadata": {},
   "source": [
    ">5\\. How many global scopes are there in a Python program? How many local scopes?\r\n",
    "\r\n",
    "Answers:\r\n",
    "\r\n",
    "There are two global scopes in a python program.\r\n",
    "\r\n",
    "- Built-in scope\r\n",
    "- Global scope\r\n",
    "\r\n",
    "for example:\r\n",
    "\r\n",
    "    import pandas as pd\r\n",
    "\r\n",
    "Now this 'pd' can be used anywhere in the code without actually assignin it.\r\n",
    "\r\n",
    "    a=0\r\n",
    "    def example():\r\n",
    "        print(a)\r\n",
    "    \r\n",
    "    example()\r\n",
    "\r\n",
    "Now the variable 'a' is used inside a example() which is not inside it. Hence it is a global variable.\r\n",
    "\r\n",
    "\r\n",
    "There are two local scopes in a python program.\r\n",
    "\r\n",
    "- Enclosed scope\r\n",
    "- Local scope\r\n",
    "\r\n",
    "for example:\r\n",
    "\r\n",
    "    def first():\r\n",
    "        a=0\r\n",
    "        def sec():\r\n",
    "            print(a)\r\n",
    "\r\n",
    "        sec()\r\n",
    "    \r\n",
    "    first()\r\n",
    "\r\n",
    "Now the variable 'a' behaves with enclosed scope as 'a' is neither a global variable nor it is local variable to sec() function.\r\n",
    "\r\n",
    "    def first():\r\n",
    "        a=0\r\n",
    "        print(a)\r\n",
    "    \r\n",
    "    first()\r\n",
    "\r\n",
    "Now the variable 'a' is local to first() function."
   ]
  },
  {
   "cell_type": "markdown",
   "metadata": {},
   "source": [
    "> 6\\. What happens to variables in a local scope when the function call returns?\r\n",
    "\r\n",
    "Answer:\r\n",
    "\r\n",
    "Once the function call returns which means the execution of the function has terminated and hence the local variables are destroyed"
   ]
  },
  {
   "cell_type": "markdown",
   "metadata": {},
   "source": [
    "> 7\\. What is the concept of a return value? Is it possible to have a return value in an expression?\r\n",
    "\r\n",
    "Answer:\r\n",
    "\r\n",
    "The value returned by any function at the end of the execution of that function to the point where it was called.\r\n",
    "\r\n",
    "There are two types of return statments:\r\n",
    "- Explicit:\r\n",
    "\r\n",
    "    When we provide a return statment explicitly in any function. Once the value is returned to the called the execution of function terminates itself and the lines of code post return(if any) gets ignored.\r\n",
    "\r\n",
    "- Implicit:\r\n",
    "\r\n",
    "    When we dont return any value then default 'None' value is returned to the caller.\r\n",
    "\r\n",
    "\r\n",
    "Yes, it is possible to have return value in an expression if explicit return statement is used.\r\n",
    "\r\n",
    "For example:\r\n",
    "\r\n",
    "    def example():\r\n",
    "        return 2\r\n",
    "    \r\n",
    "\r\n",
    "    b=2\r\n",
    "    add = example() + 2\r\n",
    "\r\n",
    "\r\n"
   ]
  },
  {
   "cell_type": "markdown",
   "metadata": {},
   "source": [
    "> 8\\. If a function does not have a return statement, what is the return value of a call to that function?\r\n",
    "\r\n",
    "Answer:\r\n",
    "\r\n",
    "None"
   ]
  },
  {
   "cell_type": "markdown",
   "metadata": {},
   "source": [
    "> 9\\. How do you make a function variable refer to the global variable?\r\n",
    "\r\n",
    "Answer:\r\n",
    "\r\n",
    "By using the global keyword"
   ]
  },
  {
   "cell_type": "markdown",
   "metadata": {},
   "source": [
    "> 10\\. What is the data type of None?"
   ]
  },
  {
   "cell_type": "code",
   "execution_count": 1,
   "metadata": {},
   "outputs": [
    {
     "data": {
      "text/plain": [
       "NoneType"
      ]
     },
     "execution_count": 1,
     "metadata": {},
     "output_type": "execute_result"
    }
   ],
   "source": [
    "type(None)"
   ]
  },
  {
   "cell_type": "markdown",
   "metadata": {},
   "source": [
    "None is of NoneType dataype"
   ]
  },
  {
   "cell_type": "markdown",
   "metadata": {},
   "source": [
    "> 11\\. What does the sentence import areallyourpetsnamederic do?\r\n",
    "\r\n",
    "import areallyourpetsnamederic imports all the functions and object tha are written in areallyourpetsnamederic."
   ]
  },
  {
   "cell_type": "markdown",
   "metadata": {},
   "source": [
    "> 12\\. If you had a bacon() feature in a spam module, what would you call it after importing spam?\r\n",
    "\r\n",
    "Answer:\r\n",
    "\r\n",
    "    import spam as sp\r\n",
    "    sp.bacon()\r\n",
    "\r\n",
    "or\r\n",
    "    \r\n",
    "    import spam\r\n",
    "    spam.bacon()\r\n",
    "\r\n",
    "or \r\n",
    "\r\n",
    "    from spam import *\r\n",
    "    bacon()\r\n",
    "\r\n",
    "\r\n"
   ]
  },
  {
   "cell_type": "markdown",
   "metadata": {},
   "source": [
    "> 13\\. What can you do to save a programme from crashing if it encounters an error?\r\n",
    "\r\n",
    "Answer:\r\n",
    "\r\n",
    "To keep the workflow of the program alive we can use try and except block which saves our program from crashing and will be still running and also gives a genreralised error messages to debug later."
   ]
  },
  {
   "cell_type": "markdown",
   "metadata": {},
   "source": [
    "> 14\\. What is the purpose of the try clause? What is the purpose of the except clause?\r\n",
    "\r\n",
    "Answer:\r\n",
    "\r\n",
    "When we are not sure if the particular line of code with work as planned or not or if we are suspecting any error then we can use try clause for those block of codes\r\n",
    "\r\n",
    "and to catch those errors (if occured) we use except block which prints the error stack."
   ]
  }
 ],
 "metadata": {
  "interpreter": {
   "hash": "247ab06e135bb35fa78c5eff31b2a9a0050dcb5fb773c2631d2a29ac689eeccb"
  },
  "kernelspec": {
   "display_name": "Python 3.9.0 64-bit",
   "name": "python3"
  },
  "language_info": {
   "codemirror_mode": {
    "name": "ipython",
    "version": 3
   },
   "file_extension": ".py",
   "mimetype": "text/x-python",
   "name": "python",
   "nbconvert_exporter": "python",
   "pygments_lexer": "ipython3",
   "version": "3.9.0"
  },
  "orig_nbformat": 2
 },
 "nbformat": 4,
 "nbformat_minor": 2
}