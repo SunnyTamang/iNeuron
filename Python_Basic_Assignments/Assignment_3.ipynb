{
 "metadata": {
  "language_info": {
   "codemirror_mode": {
    "name": "ipython",
    "version": 3
   },
   "file_extension": ".py",
   "mimetype": "text/x-python",
   "name": "python",
   "nbconvert_exporter": "python",
   "pygments_lexer": "ipython3",
   "version": 3
  },
  "orig_nbformat": 2
 },
 "nbformat": 4,
 "nbformat_minor": 2,
 "cells": [
  {
   "source": [
    "## <center>Assignment 4</center>"
   ],
   "cell_type": "markdown",
   "metadata": {}
  },
  {
   "source": [
    "> 1\\. Why are functions advantageous to have in your program?\n",
    "\n",
    " Answer:\n",
    "\n",
    " "
   ],
   "cell_type": "markdown",
   "metadata": {}
  }
 ]
}