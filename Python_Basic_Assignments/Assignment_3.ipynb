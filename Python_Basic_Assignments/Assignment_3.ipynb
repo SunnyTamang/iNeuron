{
 "cells": [
  {
   "cell_type": "markdown",
   "metadata": {},
   "source": [
    " <h1 align='center'>Python Basic Assignment 3</h1>\r\n"
   ]
  },
  {
   "cell_type": "markdown",
   "metadata": {},
   "source": [
    "***"
   ]
  },
  {
   "cell_type": "markdown",
   "metadata": {},
   "source": [
    "> 1\\. Why are functions advantageous to have in your program?\r\n",
    "\r\n",
    " Answer:\r\n",
    " \r\n",
    " Functions makes the code modular, dynamic and reusable. It makes it easy to modify any piece of code if faced any issue just in no time.\r\n",
    "\r\n",
    " "
   ]
  },
  {
   "cell_type": "markdown",
   "metadata": {},
   "source": [
    ">2\\. When does the code in a function run: when it&#39;s specified or when it&#39;s called?\r\n",
    "\r\n",
    "Answer:\r\n",
    "\r\n",
    "When the function is defined/specified it should always be done before it is called. As to make the compiler aware, that there is this function which you might call later in code. And when you call that function then the code block inside the function executes."
   ]
  },
  {
   "cell_type": "markdown",
   "metadata": {},
   "source": [
    ">3\\. What statement creates a function?\r\n",
    "\r\n",
    "Answer: \r\n",
    "\r\n",
    "\"def function_name:\" creates a function\r\n",
    "\r\n",
    "            def function_name:\r\n",
    "                pass"
   ]
  },
  {
   "cell_type": "markdown",
   "metadata": {},
   "source": [
    ">4\\. What is the difference between a function and a function call?\r\n",
    "\r\n",
    "Answer:\r\n",
    "\r\n",
    "A function is a block of code where the logic of the problem situation is written and will return a value depending upon the situation.<br>\r\n",
    "For example:\r\n",
    "\r\n",
    "    def add(a,b):\r\n",
    "        return a + b\r\n",
    "\r\n",
    "or\r\n",
    "\r\n",
    "    def check(a,b):\r\n",
    "        if(a>b):\r\n",
    "            print(\"a is greater\")\r\n",
    "        else:\r\n",
    "            print(\"b is greater\")\r\n",
    "\r\n",
    "Whereas a function call is a statement where the function is called which pass the flow of control of the program to the function which gets executed and returns/prints output depending upon the conditions.\r\n"
   ]
  },
  {
   "cell_type": "markdown",
   "metadata": {},
   "source": []
  }
 ],
 "metadata": {
  "interpreter": {
   "hash": "247ab06e135bb35fa78c5eff31b2a9a0050dcb5fb773c2631d2a29ac689eeccb"
  },
  "kernelspec": {
   "display_name": "Python 3.9.0 64-bit",
   "name": "python3"
  },
  "language_info": {
   "name": "python",
   "version": ""
  },
  "orig_nbformat": 2
 },
 "nbformat": 4,
 "nbformat_minor": 2
}