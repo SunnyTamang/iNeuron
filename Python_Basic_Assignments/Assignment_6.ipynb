{
 "cells": [
  {
   "cell_type": "markdown",
   "metadata": {},
   "source": [
    " <h1 align='center'>Python Basic Assignment 6</h1>"
   ]
  },
  {
   "cell_type": "markdown",
   "metadata": {},
   "source": [
    "***"
   ]
  },
  {
   "cell_type": "markdown",
   "metadata": {},
   "source": [
    "> 1\\. What are escape characters, and how do you use them?\r\n",
    "\r\n",
    "Answer:\r\n",
    "\r\n",
    "Escape characters allows us to include special characters in a string.\r\n",
    "\r\n",
    "for example:\r\n",
    "\r\n",
    "    print(\"\\\"Hello\\\"\")\r\n",
    "\r\n",
    "To use a escape characters we use \\ sign."
   ]
  },
  {
   "cell_type": "markdown",
   "metadata": {},
   "source": [
    "> 2\\. What do the escape characters n and t stand for?\r\n",
    "\r\n",
    "Answer:\r\n",
    "\r\n",
    "- n stands for new line\r\n",
    "- t stands for tab(whitespace)"
   ]
  },
  {
   "cell_type": "markdown",
   "metadata": {},
   "source": [
    "> 3\\. What is the way to include backslash characters in a string?\r\n",
    "\r\n",
    "Answer:\r\n",
    "\r\n",
    "To include backslash character in a string we use double \\ sign.\r\n",
    "\r\n",
    "for example:\r\n",
    "\r\n",
    "    print(\"Hello\\\\World\")\r\n",
    "\r\n",
    "output: Hello\\World"
   ]
  },
  {
   "cell_type": "markdown",
   "metadata": {},
   "source": [
    "> 4\\. The string \"Howl's Moving Castle\" is a correct value. Why isn't the single quote character in the word Howl's not escaped a problem?\r\n",
    "\r\n",
    "Answer:\r\n",
    "\r\n",
    "Single quote in Howl's not escaped and it will not create any problem as entire string is quoted inside double quotes."
   ]
  },
  {
   "cell_type": "markdown",
   "metadata": {},
   "source": [
    "> 5\\. How do you write a string of newlines if you don't want to use the n character?\r\n",
    "\r\n",
    "Answer:\r\n",
    "\r\n",
    "We can use 3 single or double quotes(multiline string) to write a stirng of new lines.\r\n",
    "\r\n",
    "for example:\r\n",
    "\r\n",
    "    str = '''This is python basic assignment 6,\r\n",
    "            and this is question number 5.''' "
   ]
  },
  {
   "cell_type": "markdown",
   "metadata": {},
   "source": [
    "> 6\\. What are the values of the given expressions?\r\n",
    "\r\n",
    "'Hello, world!'[1]\r\n",
    "\r\n",
    "'Hello, world!'[0:5]\r\n",
    "\r\n",
    "'Hello, world!'[:5]\r\n",
    "\r\n",
    "'Hello, world!'[3:]\r\n",
    "\r\n",
    "\r\n",
    "Answer:\r\n",
    "\r\n",
    "e\r\n",
    "\r\n",
    "Hello\r\n",
    "\r\n",
    "Hello\r\n",
    "\r\n",
    "lo, world!"
   ]
  },
  {
   "cell_type": "markdown",
   "metadata": {},
   "source": [
    "> 7\\. What are the values of the following expressions?\r\n",
    "\r\n",
    "'Hello'.upper()\r\n",
    "\r\n",
    "'Hello'.upper().isupper()\r\n",
    "\r\n",
    "'Hello'.upper().lower()\r\n",
    "\r\n",
    "Answer:\r\n",
    "\r\n",
    "'HELLO'\r\n",
    "\r\n",
    "True\r\n",
    "\r\n",
    "'hello'"
   ]
  },
  {
   "cell_type": "markdown",
   "metadata": {},
   "source": [
    "> 8\\. What are the values of the following expressions?\r\n",
    "\r\n",
    "'Remember, remember, the fifth of July.'.split()\r\n",
    "\r\n",
    "'-'.join('There can only one.'.split())\r\n",
    "\r\n",
    "\r\n",
    "Answer:\r\n",
    "\r\n",
    "['Remember,', 'remember,', 'the', 'fifth', 'of', 'July.']\r\n",
    "\r\n",
    "There-can-only-one."
   ]
  },
  {
   "cell_type": "markdown",
   "metadata": {},
   "source": [
    "> 9\\. What are the methods for right-justifying, left-justifying, and centering a string?\r\n",
    "\r\n",
    "Answer:\r\n",
    "\r\n",
    "- rjust()\r\n",
    "- ljust()\r\n",
    "- center()"
   ]
  },
  {
   "cell_type": "markdown",
   "metadata": {},
   "source": [
    "> 10\\. What is the best way to remove whitespace characters from the start or end?\r\n",
    "\r\n",
    "Answer:\r\n",
    "\r\n",
    "- lstrip()\r\n",
    "- rstrip()"
   ]
  }
 ],
 "metadata": {
  "interpreter": {
   "hash": "247ab06e135bb35fa78c5eff31b2a9a0050dcb5fb773c2631d2a29ac689eeccb"
  },
  "kernelspec": {
   "display_name": "Python 3.9.0 64-bit",
   "name": "python3"
  },
  "language_info": {
   "codemirror_mode": {
    "name": "ipython",
    "version": 3
   },
   "file_extension": ".py",
   "mimetype": "text/x-python",
   "name": "python",
   "nbconvert_exporter": "python",
   "pygments_lexer": "ipython3",
   "version": "3.9.0"
  },
  "orig_nbformat": 4
 },
 "nbformat": 4,
 "nbformat_minor": 2
}