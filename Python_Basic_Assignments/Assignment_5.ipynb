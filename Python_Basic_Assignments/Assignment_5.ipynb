{
 "cells": [
  {
   "cell_type": "markdown",
   "metadata": {},
   "source": [
    " <h1 align='center'>Python Basic Assignment 5</h1>\r\n"
   ]
  },
  {
   "cell_type": "markdown",
   "metadata": {},
   "source": [
    "***"
   ]
  },
  {
   "cell_type": "markdown",
   "metadata": {},
   "source": [
    "> 1\\. What does an empty dictionary's code look like?\r\n",
    "\r\n",
    "Answer:\r\n",
    "\r\n",
    "dict = {}"
   ]
  },
  {
   "cell_type": "markdown",
   "metadata": {},
   "source": [
    "> 2\\. What is the value of a dictionary value with the key 'foo' and the value 42?\r\n",
    "\r\n",
    "Answer:\r\n",
    "\r\n",
    "42"
   ]
  },
  {
   "cell_type": "markdown",
   "metadata": {},
   "source": [
    "> 3\\. What is the most significant distinction between a dictionary and a list?\r\n",
    "\r\n",
    "Answer:\r\n",
    "\r\n",
    "List is collection of object with a single value as an element where as dictionary holds the data in key and value pair."
   ]
  },
  {
   "cell_type": "markdown",
   "metadata": {},
   "source": [
    "> 4\\. What happens if you try to access spam['foo'] if spam is {'bar': 100}?\r\n",
    "\r\n",
    "Amswer:\r\n",
    "\r\n",
    "We will get the key error as 'foo' key is not present in spam"
   ]
  },
  {
   "cell_type": "markdown",
   "metadata": {},
   "source": [
    "> 5\\. If a dictionary is stored in spam, what is the difference between the expressions 'cat' in spam and 'cat' in spam.keys()?\r\n",
    "\r\n",
    "Answer:\r\n",
    "\r\n",
    "There is no difference as in both the cases it will look for the given key 'cat'.\r\n",
    "\r\n",
    "- The expression 'cat' in spam gives the value of the 'cat' key if found and the 'cat' in spam.keys() gives the keys present in a given dictionary"
   ]
  },
  {
   "cell_type": "markdown",
   "metadata": {},
   "source": [
    "> 6\\. If a dictionary is stored in spam, what is the difference between the expressions 'cat' in spam and 'cat' in spam.values()?\r\n",
    "\r\n",
    "Answer:\r\n",
    "\r\n",
    "'cat' in spam will look for the key 'cat' if present or not if found will print the value for it and 'cat' in spam.values() will look for the value 'cat'"
   ]
  },
  {
   "cell_type": "markdown",
   "metadata": {},
   "source": [
    "> 7\\. What is a shortcut for the following code?\r\n",
    "\r\n",
    "if 'color' not in spam:\r\n",
    "\r\n",
    "spam['color'] = 'black'\r\n",
    "\r\n",
    "\r\n",
    "Answer:\r\n",
    "\r\n",
    "spam.setdefault('color', 'black')"
   ]
  },
  {
   "cell_type": "markdown",
   "metadata": {},
   "source": [
    "> 8\\. How do you \"pretty print\" dictionary values using which module and function?\r\n",
    "\r\n",
    "Answer:\r\n",
    "\r\n",
    "module : pprint\r\n",
    "\r\n",
    "function: pprint\r\n"
   ]
  }
 ],
 "metadata": {
  "interpreter": {
   "hash": "247ab06e135bb35fa78c5eff31b2a9a0050dcb5fb773c2631d2a29ac689eeccb"
  },
  "kernelspec": {
   "display_name": "Python 3.9.0 64-bit",
   "name": "python3"
  },
  "language_info": {
   "codemirror_mode": {
    "name": "ipython",
    "version": 3
   },
   "file_extension": ".py",
   "mimetype": "text/x-python",
   "name": "python",
   "nbconvert_exporter": "python",
   "pygments_lexer": "ipython3",
   "version": "3.9.0"
  },
  "orig_nbformat": 4
 },
 "nbformat": 4,
 "nbformat_minor": 2
}