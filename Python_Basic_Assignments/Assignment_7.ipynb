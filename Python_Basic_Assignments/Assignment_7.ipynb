{
 "cells": [
  {
   "cell_type": "markdown",
   "metadata": {},
   "source": [
    " <h1 align='center'>Python Basic Assignment 7</h1>"
   ]
  },
  {
   "cell_type": "markdown",
   "metadata": {},
   "source": [
    "***"
   ]
  },
  {
   "cell_type": "markdown",
   "metadata": {},
   "source": [
    "> 1\\. What is the name of the feature responsible for generating Regex objects?\r\n",
    "\r\n",
    "Answer:\r\n",
    "\r\n",
    "compile()"
   ]
  },
  {
   "cell_type": "markdown",
   "metadata": {},
   "source": [
    "> 2\\. Why do raw strings often appear in Regex objects?\r\n",
    "\r\n",
    "Answer:\r\n",
    "\r\n",
    "Raw strings often appear in regex objects because of the backslash do not have to escaped."
   ]
  },
  {
   "cell_type": "markdown",
   "metadata": {},
   "source": [
    ">3\\. What is the return value of the search() method?\r\n",
    "\r\n",
    "Answer:\r\n",
    "\r\n",
    "Returns the match objects"
   ]
  },
  {
   "cell_type": "markdown",
   "metadata": {},
   "source": [
    "> 4\\. From a Match item, how do you get the actual strings that match the pattern?\r\n",
    "\r\n",
    "Answer:\r\n",
    "\r\n",
    "By using group() method."
   ]
  },
  {
   "cell_type": "markdown",
   "metadata": {},
   "source": [
    "> 5\\. In the regex which created from the r'(\\d\\d\\d)-(\\d\\d\\d-\\d\\d\\d\\d)', what does group zero cover? Group 2? Group 1?\r\n",
    "\r\n",
    "Answer:\r\n",
    "\r\n",
    "- Group zero covers the entire match\r\n",
    "- Group 2 covers (\\d\\d\\d-\\d\\d\\d\\d)\r\n",
    "- Group 1 covers (\\d\\d\\d)"
   ]
  },
  {
   "cell_type": "markdown",
   "metadata": {},
   "source": [
    "> 6\\. In standard expression syntax, parentheses and intervals have distinct meanings. How can you tell a regex that you want it to fit real parentheses and periods?\r\n",
    "\r\n",
    "Answer:\r\n",
    "\r\n",
    "We can use back slash to tell regex that the next charaters after backslash are either a period or string.\r\n",
    "\r\n",
    "For example:\r\n",
    "\r\n",
    "    \\. or \\(\\)"
   ]
  },
  {
   "cell_type": "markdown",
   "metadata": {},
   "source": [
    "> 7\\. The findall() method returns a string list or a list of string tuples. What causes it to return one of the two options?\r\n",
    "\r\n",
    "Answer:\r\n",
    "\r\n",
    "When patterrn is divided into groups or when we write our patter inside paranthesis it will reurn tuples or else list"
   ]
  },
  {
   "cell_type": "markdown",
   "metadata": {},
   "source": [
    "> 8\\. In standard expressions, what does the | character mean?\r\n",
    "\r\n",
    "Answer:\r\n",
    "\r\n",
    "It is used to divide two groups in a pattern and matches either the first group or the second group of the pattern"
   ]
  },
  {
   "cell_type": "markdown",
   "metadata": {},
   "source": [
    "> 9\\. In regular expressions, what does the ? character stand for?\r\n",
    "\r\n",
    "Answer:\r\n",
    "\r\n",
    "'?' stands for zero or one quantifier."
   ]
  },
  {
   "cell_type": "markdown",
   "metadata": {},
   "source": [
    "> 10\\. In regular expressions, what is the difference between the + and * characters?\r\n",
    "\r\n",
    "Answer:\r\n",
    "\r\n",
    "- '+' matches the preceding character one or more times\r\n",
    "- '*' matches the preceding character zero or more times"
   ]
  },
  {
   "cell_type": "markdown",
   "metadata": {},
   "source": [
    "> 11\\. What is the difference between {4} and {4,5} in regular expression?\r\n",
    "\r\n",
    "Answer:\r\n",
    "\r\n",
    "- {4} matches the 4 times the precding element/group\r\n",
    "- {4,5} matches between 4 and 5 times the preceding element/group"
   ]
  },
  {
   "cell_type": "markdown",
   "metadata": {},
   "source": [
    "> 12\\. What do you mean by the \\d, \\w, and \\s shorthand character classes signify in regular expressions?\r\n",
    "\r\n",
    "Answer:\r\n",
    "\r\n",
    "- \\d matches a single digit\r\n",
    "- \\w matches a single word\r\n",
    "- \\s matches for space"
   ]
  },
  {
   "cell_type": "markdown",
   "metadata": {},
   "source": [
    "> 13\\. What do means by \\D, \\W, and \\S shorthand character classes signify in regular expressions?\r\n",
    "\r\n",
    "Answer:\r\n",
    "\r\n",
    "- \\D matches a single character which is not a digit\r\n",
    "- \\W matches a single word\r\n",
    "- \\S matches for space"
   ]
  },
  {
   "cell_type": "markdown",
   "metadata": {},
   "source": [
    "> 14\\. What is the difference between .*? and .*?\r\n",
    "\r\n",
    "Answer:\r\n",
    "\r\n",
    "- .*? is for greedy quantifier\r\n",
    "- .* is for lazy quantifier"
   ]
  },
  {
   "cell_type": "markdown",
   "metadata": {},
   "source": [
    "> 15\\. What is the syntax for matching both numbers and lowercase letters with a character class?\r\n",
    "\r\n",
    "Answer:\r\n",
    "\r\n",
    "[0-9a-z]"
   ]
  },
  {
   "cell_type": "markdown",
   "metadata": {},
   "source": [
    ">16\\. What is the procedure for making a normal expression in regax case insensitive?\r\n",
    "\r\n",
    "Answer:\r\n",
    "\r\n",
    "re.IGNORECASE inside re.compile as a paramter.\r\n",
    "\r\n",
    "For example:\r\n",
    "\r\n",
    "    re.compile([0-9a-z], re.IGNORECASE)\r\n"
   ]
  },
  {
   "cell_type": "markdown",
   "metadata": {},
   "source": [
    "> 17\\. What does the . character normally match? What does it match if re.DOTALL is passed as 2nd argument in re.compile()?\r\n",
    "\r\n",
    "Answer:\r\n",
    "\r\n",
    "The '.' sign matches any character exluding the new line character. If re.DOTALL is passed in re.compile() then it will also match new line characters."
   ]
  },
  {
   "cell_type": "markdown",
   "metadata": {},
   "source": [
    "> 18\\. If numReg = re.compile(r'\\d+'), what will numRegex.sub('X', '11 drummers, 10 pipers, five rings, 4 hen') return?\r\n",
    "\r\n",
    "Answer:  X drummers, X pipers, five rings, X hen\r\n",
    "\r\n"
   ]
  },
  {
   "cell_type": "markdown",
   "metadata": {},
   "source": [
    "> 19\\. What does passing re.VERBOSE as the 2nd argument to re.compile() allow to do?\r\n",
    "\r\n",
    "Answer:\r\n",
    "\r\n",
    "re.VERBOSE ignores all the spaces and tabs and also allows to add comments to the string"
   ]
  },
  {
   "cell_type": "markdown",
   "metadata": {},
   "source": [
    ">20\\. How would you write a regex that match a number with comma for every three digits? It must match the given following:\r\n",
    "\r\n",
    "'42'\r\n",
    "\r\n",
    "'1,234'\r\n",
    "\r\n",
    "'6,368,745'\r\n",
    "\r\n",
    "but not the following:\r\n",
    "\r\n",
    "'12,34,567' (which has only two digits between the commas)\r\n",
    "\r\n",
    "'1234' (which lacks commas)\r\n",
    "\r\n",
    "\r\n",
    "Answer:\r\n",
    "\r\n",
    "\r\n",
    "\r\n"
   ]
  },
  {
   "cell_type": "markdown",
   "metadata": {},
   "source": [
    ">12\\. How would you write a regex that matches the full name of someone whose last name is Watanabe? You can assume that the first name that comes before it will always be \r\n",
    "\r\n",
    "> one word that begins with a capital letter. The regex must match the following:\r\n",
    "\r\n",
    "> 'Haruto Watanabe'\r\n",
    "\r\n",
    "> 'Alice Watanabe'\r\n",
    "\r\n",
    "> 'RoboCop Watanabe'\r\n",
    "\r\n",
    "\r\n",
    "> but not the following:\r\n",
    "\r\n",
    "\r\n",
    "> 'haruto Watanabe' (where the first name is not capitalized)\r\n",
    "\r\n",
    "> 'Mr. Watanabe' (where the preceding word has a nonletter character)\r\n",
    "\r\n",
    "> 'Watanabe' (which has no first name)\r\n",
    "\r\n",
    "> 'Haruto watanabe' (where Watanabe is not capitalized)\r\n",
    "\r\n",
    "\r\n",
    "\r\n",
    "Answer:\r\n",
    "\r\n",
    "re.compile(r'\\b[A-Z][a-zA-Z]+\\sWatanabe')"
   ]
  },
  {
   "cell_type": "code",
   "execution_count": 82,
   "metadata": {},
   "outputs": [
    {
     "name": "stdout",
     "output_type": "stream",
     "text": [
      "Haruto Watanabe\n"
     ]
    }
   ],
   "source": [
    "import re\r\n",
    "\r\n",
    "noNewlineReg=re.compile(r'\\b[A-Z][a-zA-Z]+\\sWatanabe')\r\n",
    "\r\n",
    "mo=noNewlineReg.search('Haruto Watanabe Alice Watanabe RoboCop Watanabe haruto Watanabe Mr. Watanabe Watanabe Haruto watanabe')\r\n",
    "print(mo.group())"
   ]
  },
  {
   "cell_type": "code",
   "execution_count": null,
   "metadata": {},
   "outputs": [],
   "source": []
  },
  {
   "cell_type": "code",
   "execution_count": null,
   "metadata": {},
   "outputs": [],
   "source": []
  },
  {
   "cell_type": "code",
   "execution_count": 53,
   "metadata": {},
   "outputs": [
    {
     "name": "stdout",
     "output_type": "stream",
     "text": [
      "42\n",
      "1,234\n",
      "6,368,745\n"
     ]
    }
   ],
   "source": [
    "import re\r\n",
    "\r\n",
    "reg = re.compile(r'(?<![0-9,])(\\d{1,3}(,\\d{3})*)(?![0-9,])')\r\n",
    "\r\n",
    "# reg = re.compile(r'^\\d{1,3}(,\\d{3})*$') \r\n",
    "matchIt = \"42 1,234 6,368,745 12,34,567 1234\"\r\n",
    "\r\n",
    "matches = reg.findall(matchIt)\r\n",
    "# reg.findall(matchIt)\r\n",
    "for match in matches:\r\n",
    "    print(match[0])\r\n",
    "\r\n",
    "\r\n",
    "\r\n"
   ]
  },
  {
   "cell_type": "markdown",
   "metadata": {},
   "source": []
  }
 ],
 "metadata": {
  "interpreter": {
   "hash": "247ab06e135bb35fa78c5eff31b2a9a0050dcb5fb773c2631d2a29ac689eeccb"
  },
  "kernelspec": {
   "display_name": "Python 3.9.0 64-bit",
   "name": "python3"
  },
  "language_info": {
   "codemirror_mode": {
    "name": "ipython",
    "version": 3
   },
   "file_extension": ".py",
   "mimetype": "text/x-python",
   "name": "python",
   "nbconvert_exporter": "python",
   "pygments_lexer": "ipython3",
   "version": "3.9.0"
  },
  "orig_nbformat": 4
 },
 "nbformat": 4,
 "nbformat_minor": 2
}