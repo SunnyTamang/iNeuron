{
 "cells": [
  {
   "cell_type": "markdown",
   "metadata": {},
   "source": [
    " <h1 align='center'>Python Basic Assignment 7</h1>"
   ]
  },
  {
   "cell_type": "markdown",
   "metadata": {},
   "source": [
    "***"
   ]
  },
  {
   "cell_type": "markdown",
   "metadata": {},
   "source": [
    "> 1\\. What is the name of the feature responsible for generating Regex objects?\n",
    "\n",
    "Answer:\n",
    "\n",
    "compile()"
   ]
  },
  {
   "cell_type": "markdown",
   "metadata": {},
   "source": [
    "> 2\\. Why do raw strings often appear in Regex objects?\n",
    "\n",
    "Answer:\n",
    "\n",
    "Raw strings often appear in regex objects because of the backslash do not have to escaped."
   ]
  },
  {
   "cell_type": "markdown",
   "metadata": {},
   "source": [
    ">3\\. What is the return value of the search() method?\n",
    "\n",
    "Answer:\n",
    "\n",
    "Returns the match objects"
   ]
  },
  {
   "cell_type": "markdown",
   "metadata": {},
   "source": [
    "> 4\\. From a Match item, how do you get the actual strings that match the pattern?\n",
    "\n",
    "Answer:\n",
    "\n",
    "By using group() method."
   ]
  },
  {
   "cell_type": "markdown",
   "metadata": {},
   "source": [
    "> 5\\. In the regex which created from the r'(\\d\\d\\d)-(\\d\\d\\d-\\d\\d\\d\\d)', what does group zero cover? Group 2? Group 1?\n",
    "\n",
    "Answer:\n",
    "\n",
    "- Group zero covers the entire match\n",
    "- Group 2 covers (\\d\\d\\d-\\d\\d\\d\\d)\n",
    "- Group 1 covers (\\d\\d\\d)"
   ]
  },
  {
   "cell_type": "markdown",
   "metadata": {},
   "source": [
    "> 6\\. In standard expression syntax, parentheses and intervals have distinct meanings. How can you tell a regex that you want it to fit real parentheses and periods?\n",
    "\n",
    "Answer:\n",
    "\n",
    "We can use back slash to tell regex that the next charaters after backslash are either a period or string.\n",
    "\n",
    "For example:\n",
    "\n",
    "    \\. or \\(\\)"
   ]
  },
  {
   "cell_type": "markdown",
   "metadata": {},
   "source": [
    "> 7\\. The findall() method returns a string list or a list of string tuples. What causes it to return one of the two options?\n",
    "\n",
    "Answer:\n",
    "\n",
    "When patterrn is divided into groups or when we write our patter inside paranthesis it will reurn tuples or else list"
   ]
  },
  {
   "cell_type": "markdown",
   "metadata": {},
   "source": [
    "> 8\\. In standard expressions, what does the | character mean?\n",
    "\n",
    "Answer:\n",
    "\n",
    "It is used to divide two groups in a pattern and matches either the first group or the second group of the pattern"
   ]
  },
  {
   "cell_type": "markdown",
   "metadata": {},
   "source": [
    "> 9\\. In regular expressions, what does the ? character stand for?\n",
    "\n",
    "Answer:\n",
    "\n",
    "'?' stands for zero or one quantifier."
   ]
  },
  {
   "cell_type": "markdown",
   "metadata": {},
   "source": [
    "> 10\\. In regular expressions, what is the difference between the + and * characters?\n",
    "\n",
    "Answer:\n",
    "\n",
    "- '+' matches the preceding character one or more times\n",
    "- '*' matches the preceding character zero or more times"
   ]
  },
  {
   "cell_type": "markdown",
   "metadata": {},
   "source": [
    "> 11\\. What is the difference between {4} and {4,5} in regular expression?\n",
    "\n",
    "Answer:\n",
    "\n",
    "- {4} matches the 4 times the precding element/group\n",
    "- {4,5} matches between 4 and 5 times the preceding element/group"
   ]
  },
  {
   "cell_type": "markdown",
   "metadata": {},
   "source": [
    "> 12\\. What do you mean by the \\d, \\w, and \\s shorthand character classes signify in regular expressions?\n",
    "\n",
    "Answer:\n",
    "\n",
    "- \\d matches a single digit\n",
    "- \\w matches a single word\n",
    "- \\s matches for space"
   ]
  },
  {
   "cell_type": "markdown",
   "metadata": {},
   "source": [
    "> 13\\. What do means by \\D, \\W, and \\S shorthand character classes signify in regular expressions?\n",
    "\n",
    "Answer:\n",
    "\n",
    "- \\D matches a single character which is not a digit\n",
    "- \\W matches a single word\n",
    "- \\S matches for space"
   ]
  },
  {
   "cell_type": "markdown",
   "metadata": {},
   "source": [
    "> 14\\. What is the difference between .*? and .*?\n",
    "\n",
    "Answer:\n",
    "\n",
    "- .*? is for greedy quantifier\n",
    "- .* is for lazy quantifier"
   ]
  },
  {
   "cell_type": "markdown",
   "metadata": {},
   "source": [
    "> 15\\. What is the syntax for matching both numbers and lowercase letters with a character class?\n",
    "\n",
    "Answer:\n",
    "\n",
    "[0-9a-z]"
   ]
  },
  {
   "cell_type": "markdown",
   "metadata": {},
   "source": [
    ">16\\. What is the procedure for making a normal expression in regax case insensitive?\n",
    "\n",
    "Answer:\n",
    "\n",
    "re.IGNORECASE inside re.compile as a paramter.\n",
    "\n",
    "For example:\n",
    "\n",
    "    re.compile([0-9a-z], re.IGNORECASE)\n"
   ]
  },
  {
   "cell_type": "markdown",
   "metadata": {},
   "source": [
    "> 17\\. What does the . character normally match? What does it match if re.DOTALL is passed as 2nd argument in re.compile()?\n",
    "\n",
    "Answer:\n",
    "\n",
    "The '.' sign matches any character exluding the new line character. If re.DOTALL is passed in re.compile() then it will also match new line characters."
   ]
  },
  {
   "cell_type": "markdown",
   "metadata": {},
   "source": [
    "> 18\\. If numReg = re.compile(r'\\d+'), what will numRegex.sub('X', '11 drummers, 10 pipers, five rings, 4 hen') return?\n",
    "\n",
    "Answer:  X drummers, X pipers, five rings, X hen\n",
    "\n"
   ]
  },
  {
   "cell_type": "markdown",
   "metadata": {},
   "source": [
    "> 19\\. What does passing re.VERBOSE as the 2nd argument to re.compile() allow to do?\n",
    "\n",
    "Answer:\n",
    "\n",
    "re.VERBOSE ignores all the spaces and tabs and also allows to add comments to the string"
   ]
  },
  {
   "cell_type": "markdown",
   "metadata": {},
   "source": [
    ">20\\. How would you write a regex that match a number with comma for every three digits? It must match the given following:\n",
    "\n",
    "'42'\n",
    "\n",
    "'1,234'\n",
    "\n",
    "'6,368,745'\n",
    "\n",
    "but not the following:\n",
    "\n",
    "'12,34,567' (which has only two digits between the commas)\n",
    "\n",
    "'1234' (which lacks commas)\n",
    "\n",
    "\n",
    "Answer:\n",
    "\n",
    "\n",
    "\n"
   ]
  },
  {
   "cell_type": "markdown",
   "metadata": {},
   "source": [
    ">21\\. How would you write a regex that matches the full name of someone whose last name is Watanabe? You can assume that the first name that comes before it will always be \n",
    "\n",
    "> one word that begins with a capital letter. The regex must match the following:\n",
    "\n",
    "> 'Haruto Watanabe'\n",
    "\n",
    "> 'Alice Watanabe'\n",
    "\n",
    "> 'RoboCop Watanabe'\n",
    "\n",
    "\n",
    "> but not the following:\n",
    "\n",
    "\n",
    "> 'haruto Watanabe' (where the first name is not capitalized)\n",
    "\n",
    "> 'Mr. Watanabe' (where the preceding word has a nonletter character)\n",
    "\n",
    "> 'Watanabe' (which has no first name)\n",
    "\n",
    "> 'Haruto watanabe' (where Watanabe is not capitalized)\n",
    "\n",
    "\n",
    "\n",
    "Answer:\n",
    "\n",
    "re.compile(r'\\b[A-Z][a-zA-Z]+\\sWatanabe')"
   ]
  },
  {
   "cell_type": "markdown",
   "metadata": {},
   "source": [
    "22\\. 22. How would you write a regex that matches a sentence where the first word is either Alice, Bob,<br>\n",
    "or Carol; the second word is either eats, pets, or throws; the third word is apples, cats, or baseballs;<br>\n",
    "and the sentence ends with a period? This regex should be case-insensitive. It must match the<br>\n",
    "following:<br>\n",
    "'Alice eats apples.'<br>\n",
    "'Bob pets cats.'<br>\n",
    "'Carol throws baseballs.'<br>\n",
    "'Alice throws Apples.'<br>\n",
    "'BOB EATS CATS.'<br>\n",
    "but not the following:<br>\n",
    "'RoboCop eats apples.'<br>\n",
    "'ALICE THROWS FOOTBALLS.'<br>\n",
    "'Carol eats 7 cats.'<br>"
   ]
  },
  {
   "cell_type": "code",
   "execution_count": 4,
   "metadata": {},
   "outputs": [
    {
     "data": {
      "text/plain": [
       "re.compile(r'(Alice|Bob|Carol)\\s(eats|pets|throws)\\s(apples|cats|baseballs)\\.',\n",
       "re.IGNORECASE|re.UNICODE)"
      ]
     },
     "execution_count": 4,
     "metadata": {},
     "output_type": "execute_result"
    }
   ],
   "source": [
    "re.compile(r'(Alice|Bob|Carol)\\s(eats|pets|throws)\\s(apples|cats|baseballs)\\.', re.IGNORECASE)"
   ]
  },
  {
   "cell_type": "markdown",
   "metadata": {},
   "source": []
  }
 ],
 "metadata": {
  "interpreter": {
   "hash": "247ab06e135bb35fa78c5eff31b2a9a0050dcb5fb773c2631d2a29ac689eeccb"
  },
  "kernelspec": {
   "display_name": "Python 3.9.0 64-bit",
   "name": "python3"
  },
  "language_info": {
   "codemirror_mode": {
    "name": "ipython",
    "version": 3
   },
   "file_extension": ".py",
   "mimetype": "text/x-python",
   "name": "python",
   "nbconvert_exporter": "python",
   "pygments_lexer": "ipython3",
   "version": "3.8.10"
  },
  "orig_nbformat": 4
 },
 "nbformat": 4,
 "nbformat_minor": 2
}
