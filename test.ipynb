{
 "metadata": {
  "language_info": {
   "codemirror_mode": {
    "name": "ipython",
    "version": 3
   },
   "file_extension": ".py",
   "mimetype": "text/x-python",
   "name": "python",
   "nbconvert_exporter": "python",
   "pygments_lexer": "ipython3",
   "version": "3.9.0-final"
  },
  "orig_nbformat": 2,
  "kernelspec": {
   "name": "python3",
   "display_name": "Python 3.9.0 64-bit",
   "metadata": {
    "interpreter": {
     "hash": "247ab06e135bb35fa78c5eff31b2a9a0050dcb5fb773c2631d2a29ac689eeccb"
    }
   }
  }
 },
 "nbformat": 4,
 "nbformat_minor": 2,
 "cells": [
  {
   "source": [
    "## This is a header"
   ],
   "cell_type": "markdown",
   "metadata": {}
  },
  {
   "source": [
    "> This is a block quote"
   ],
   "cell_type": "markdown",
   "metadata": {}
  },
  {
   "source": [
    ">This is a blockquote\n",
    ">> this is a nested blockquote"
   ],
   "cell_type": "markdown",
   "metadata": {}
  },
  {
   "source": [
    "> ## This is block quote with a header"
   ],
   "cell_type": "markdown",
   "metadata": {}
  },
  {
   "source": [
    "Blockquotes can contain other Markdown elements, including headers, lists, and code blocks:\n",
    "\n",
    "> ## This is a header.\n",
    "> \n",
    "> 1.   This is the first list item.\n",
    "> 2.   This is the second list item.\n",
    "> \n",
    "> Here's some example code:\n",
    "> \n",
    ">     return shell_exec(\"echo $input | $markdown_script\");"
   ],
   "cell_type": "markdown",
   "metadata": {}
  },
  {
   "source": [
    "* this is a list\n",
    "* this is a list \n",
    "* this is a list"
   ],
   "cell_type": "markdown",
   "metadata": {}
  },
  {
   "source": [
    "+ Red\n",
    "+ Green\n",
    "+ Blue"
   ],
   "cell_type": "markdown",
   "metadata": {}
  },
  {
   "source": [
    "- Red\n",
    "- Green\n",
    "- Blue"
   ],
   "cell_type": "markdown",
   "metadata": {}
  },
  {
   "source": [
    "1. asta\n",
    "2. Yuno\n",
    "3. Captain Yami"
   ],
   "cell_type": "markdown",
   "metadata": {}
  },
  {
   "source": [
    "<ol>\n",
    "<li>Bird</li>\n",
    "<li>McHale</li>\n",
    "<li>Parish</li>\n",
    "</ol>"
   ],
   "cell_type": "markdown",
   "metadata": {}
  },
  {
   "source": [
    "1.  Bird\n",
    "1.  McHale\n",
    "1.  Parish"
   ],
   "cell_type": "markdown",
   "metadata": {}
  },
  {
   "source": [
    "*   Bird\n",
    "*   Magic"
   ],
   "cell_type": "markdown",
   "metadata": {}
  },
  {
   "source": [
    "1986\\. What a great season."
   ],
   "cell_type": "markdown",
   "metadata": {}
  }
 ]
}