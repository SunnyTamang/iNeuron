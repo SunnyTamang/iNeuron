{
 "metadata": {
  "language_info": {
   "codemirror_mode": {
    "name": "ipython",
    "version": 3
   },
   "file_extension": ".py",
   "mimetype": "text/x-python",
   "name": "python",
   "nbconvert_exporter": "python",
   "pygments_lexer": "ipython3",
   "version": "3.9.0-final"
  },
  "orig_nbformat": 2,
  "kernelspec": {
   "name": "python390jvsc74a57bd0247ab06e135bb35fa78c5eff31b2a9a0050dcb5fb773c2631d2a29ac689eeccb",
   "display_name": "Python 3.9.0 64-bit"
  },
  "metadata": {
   "interpreter": {
    "hash": "247ab06e135bb35fa78c5eff31b2a9a0050dcb5fb773c2631d2a29ac689eeccb"
   }
  }
 },
 "nbformat": 4,
 "nbformat_minor": 2,
 "cells": [
  {
   "source": [
    "<h1 align='center'>Programming Assignment 1</h1>"
   ],
   "cell_type": "markdown",
   "metadata": {}
  },
  {
   "source": [
    "---"
   ],
   "cell_type": "markdown",
   "metadata": {}
  },
  {
   "source": [
    "> 1\\. Write a Python program to print &quot;Hello Python&quot;?"
   ],
   "cell_type": "markdown",
   "metadata": {}
  },
  {
   "cell_type": "code",
   "execution_count": 1,
   "metadata": {},
   "outputs": [
    {
     "output_type": "stream",
     "name": "stdout",
     "text": [
      "Hello Python\n"
     ]
    }
   ],
   "source": [
    "print('Hello Python')"
   ]
  },
  {
   "source": [
    "> 2\\. Write a Python program to do arithmetical operations addition and division.?"
   ],
   "cell_type": "markdown",
   "metadata": {}
  },
  {
   "cell_type": "code",
   "execution_count": 2,
   "metadata": {},
   "outputs": [
    {
     "output_type": "stream",
     "name": "stdout",
     "text": [
      "6\n0.5\n"
     ]
    }
   ],
   "source": [
    "a = 2\n",
    "b = 4\n",
    "print(a + b)\n",
    "print(a / b)"
   ]
  },
  {
   "source": [
    "> 3\\. Write a Python program to find the area of a triangle?"
   ],
   "cell_type": "markdown",
   "metadata": {}
  },
  {
   "cell_type": "code",
   "execution_count": 7,
   "metadata": {},
   "outputs": [
    {
     "output_type": "stream",
     "name": "stdout",
     "text": [
      " The Area of a Triangle is:  6.0\n"
     ]
    }
   ],
   "source": [
    "a = float(input('Enter the first side: '))\n",
    "b = float(input('Enter the second side: '))\n",
    "c = float(input('Enter the third side: '))\n",
    "\n",
    "s = (a + b + c) / 2\n",
    "ar = (s*(s-a)*(s-b)*(s-c))**0.5\n",
    "\n",
    "print(\" The Area of a Triangle is: \" ,ar)"
   ]
  },
  {
   "source": [
    "> 4\\. Write a Python program to swap two variables?"
   ],
   "cell_type": "markdown",
   "metadata": {}
  },
  {
   "cell_type": "code",
   "execution_count": 10,
   "metadata": {},
   "outputs": [
    {
     "output_type": "stream",
     "name": "stdout",
     "text": [
      "The value of a is 12 and the value of b is 2\nThe swapped value of a is 2 and b is 12\n"
     ]
    }
   ],
   "source": [
    "a = 12\n",
    "b = 2\n",
    "print(f'The value of a is {a} and the value of b is {b}')\n",
    "temp = a\n",
    "a = b\n",
    "b = temp\n",
    "print(f'The swapped value of a is {a} and b is {b}')"
   ]
  },
  {
   "source": [
    "> 5\\. Write a Python program to generate a random number?"
   ],
   "cell_type": "markdown",
   "metadata": {}
  },
  {
   "cell_type": "code",
   "execution_count": 20,
   "metadata": {},
   "outputs": [
    {
     "output_type": "stream",
     "name": "stdout",
     "text": [
      "53\n"
     ]
    }
   ],
   "source": [
    "import random\n",
    "\n",
    "print(random.randint(0,100))\n"
   ]
  }
 ]
}