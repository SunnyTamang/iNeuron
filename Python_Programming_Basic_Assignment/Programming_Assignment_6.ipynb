{
 "cells": [
  {
   "cell_type": "markdown",
   "metadata": {},
   "source": [
    "<h1 align='center'>Python Programming Basic Assignment 6</h1>\n",
    "\n",
    "***"
   ]
  },
  {
   "cell_type": "markdown",
   "metadata": {},
   "source": [
    "> 1\\. Write a Python Program to Display Fibonacci Sequence Using Recursion?"
   ]
  },
  {
   "cell_type": "code",
   "execution_count": 11,
   "metadata": {},
   "outputs": [
    {
     "name": "stdout",
     "output_type": "stream",
     "text": [
      "Fibonnai series of length 10 is: \n",
      "0\n",
      "1\n",
      "1\n",
      "2\n",
      "3\n",
      "5\n",
      "8\n",
      "13\n",
      "21\n",
      "34\n"
     ]
    }
   ],
   "source": [
    "def fibonacci(num):\n",
    "    if num <= 1:\n",
    "        return(num)\n",
    "    else:\n",
    "        return(fibonacci(num-1) + fibonacci(num-2))\n",
    "        # print(pattern)\n",
    "\n",
    "length_of_the_sequence = int(input('Please the length of the sequesnce'))\n",
    "if length_of_the_sequence <= 0:\n",
    "    print('Please provide postive and number greater than 0')\n",
    "else:\n",
    "    print(f'Fibonnai series of length {length_of_the_sequence} is: ')\n",
    "    for i in range(length_of_the_sequence):\n",
    "        print(fibonacci(i))"
   ]
  },
  {
   "cell_type": "markdown",
   "metadata": {},
   "source": [
    ">2\\. Write a Python Program to Find Factorial of Number Using Recursion?"
   ]
  },
  {
   "cell_type": "code",
   "execution_count": 12,
   "metadata": {},
   "outputs": [
    {
     "name": "stdout",
     "output_type": "stream",
     "text": [
      "The factorial of 3 is 6\n"
     ]
    }
   ],
   "source": [
    "def factorial(x):\n",
    "    if x == 1:\n",
    "        return 1\n",
    "    else:\n",
    "        return (x * factorial(x-1))\n",
    "\n",
    "\n",
    "num = int(input('Enter any number'))\n",
    "if num<=0:\n",
    "    print('Please provide positive integer or greater than 0')\n",
    "else:\n",
    "    print(\"The factorial of\", num, \"is\", factorial(num))"
   ]
  },
  {
   "cell_type": "markdown",
   "metadata": {},
   "source": [
    ">3\\.Write a Python Program to calculate your Body Mass Index?"
   ]
  },
  {
   "cell_type": "code",
   "execution_count": 3,
   "metadata": {},
   "outputs": [
    {
     "name": "stdout",
     "output_type": "stream",
     "text": [
      "28.147870144492405\n"
     ]
    }
   ],
   "source": [
    "# formula for BMI kg/m2\n",
    "weight = float(input('Enter your weight in kg'))\n",
    "height = float(input('Enter your height in meters'))\n",
    "\n",
    "bmi = weight/(height*height)\n",
    "print(bmi)\n"
   ]
  },
  {
   "cell_type": "markdown",
   "metadata": {},
   "source": [
    ">5\\. Write a Python Program to calculate the natural logarithm of any number?"
   ]
  },
  {
   "cell_type": "code",
   "execution_count": 7,
   "metadata": {},
   "outputs": [
    {
     "name": "stdout",
     "output_type": "stream",
     "text": [
      "Natural logarithm of 10 is 2.302585092994046\n"
     ]
    }
   ],
   "source": [
    "import math\n",
    "num = int(input(\"Enter any number\"))\n",
    "print(f'Natural logarithm of {num} is {math.log(num)}')"
   ]
  },
  {
   "cell_type": "markdown",
   "metadata": {},
   "source": [
    ">6\\.Write a Python Program for cube sum of first n natural numbers?"
   ]
  },
  {
   "cell_type": "code",
   "execution_count": 11,
   "metadata": {},
   "outputs": [
    {
     "name": "stdout",
     "output_type": "stream",
     "text": [
      "6084\n"
     ]
    }
   ],
   "source": [
    "num =  int(input('Enter any number'))\n",
    "if num <= 0:\n",
    "    print('Please provide positive number of number greater than 0')\n",
    "else:\n",
    "    sum_of_cubes = (num*(num + 1)/2) ** 2\n",
    "    print(sum_of_cubes)"
   ]
  }
 ],
 "metadata": {
  "interpreter": {
   "hash": "916dbcbb3f70747c44a77c7bcd40155683ae19c65e1c03b4aa3499c5328201f1"
  },
  "kernelspec": {
   "display_name": "Python 3.8.10 64-bit",
   "name": "python3"
  },
  "language_info": {
   "codemirror_mode": {
    "name": "ipython",
    "version": 3
   },
   "file_extension": ".py",
   "mimetype": "text/x-python",
   "name": "python",
   "nbconvert_exporter": "python",
   "pygments_lexer": "ipython3",
   "version": "3.8.10"
  },
  "orig_nbformat": 4
 },
 "nbformat": 4,
 "nbformat_minor": 2
}
