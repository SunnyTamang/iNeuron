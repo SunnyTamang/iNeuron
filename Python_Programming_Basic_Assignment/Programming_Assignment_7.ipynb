{
 "cells": [
  {
   "cell_type": "markdown",
   "metadata": {},
   "source": [
    "<h1 align='center'>Python Programming Basic Assignment 6</h1>\n",
    "\n",
    "***"
   ]
  },
  {
   "cell_type": "markdown",
   "metadata": {},
   "source": [
    ">1\\.Write a Python Program to find sum of array?"
   ]
  },
  {
   "cell_type": "code",
   "execution_count": 5,
   "metadata": {},
   "outputs": [
    {
     "name": "stdout",
     "output_type": "stream",
     "text": [
      "Your elements are: [1, 2, 3]\n",
      "Sum of your array is 6\n"
     ]
    }
   ],
   "source": [
    "arr = []\n",
    "arr_size = int(input('Enter the size of the array'))\n",
    "for i in range(arr_size):\n",
    "    arr.append(int(input('Enter the elements')))\n",
    "sum=0\n",
    "print(f'Your elements are: {arr}')\n",
    "for i in arr:\n",
    "    sum += i\n",
    "print(f'Sum of your array is {sum}')"
   ]
  },
  {
   "cell_type": "markdown",
   "metadata": {},
   "source": [
    ">2\\.Write a Python Program to find largest element in an array?"
   ]
  },
  {
   "cell_type": "code",
   "execution_count": 12,
   "metadata": {},
   "outputs": [
    {
     "name": "stdout",
     "output_type": "stream",
     "text": [
      "Your elements are: [2, 4, 1]\n",
      "4\n"
     ]
    }
   ],
   "source": [
    "arr = []\n",
    "arr_size = int(input('Enter the size of the array'))\n",
    "for i in range(arr_size):\n",
    "    arr.append(int(input('Enter the elements')))\n",
    "\n",
    "print(f'Your elements are: {arr}')\n",
    "\n",
    "arr.sort()\n",
    "print(arr[-1])\n"
   ]
  },
  {
   "cell_type": "markdown",
   "metadata": {},
   "source": [
    ">3\\.Write a Python Program for array rotation?"
   ]
  },
  {
   "cell_type": "code",
   "execution_count": 17,
   "metadata": {},
   "outputs": [
    {
     "name": "stdout",
     "output_type": "stream",
     "text": [
      "Your elements are: [4, 3, 5, 1, 2, 3]\n",
      "Array after rotation: \n",
      "1 2 3 4 3 5 "
     ]
    }
   ],
   "source": [
    "arr = []\n",
    "arr_size = int(input('Enter the size of the array'))\n",
    "for i in range(arr_size):\n",
    "    arr.append(int(input('Enter the elements')))\n",
    "print(f'Your elements are: {arr}')\n",
    "n=int(input('Enter the slicing point'))\n",
    "\n",
    "for i in range(0, n):    \n",
    "    first_element = arr[0];    \n",
    "        \n",
    "    for j in range(0, len(arr)-1):    \n",
    "        arr[j] = arr[j+1];    \n",
    " \n",
    "    arr[len(arr)-1] = first_element;      \n",
    "     \n",
    "print(\"Array after rotation: \");    \n",
    "for i in range(0, len(arr)):    \n",
    "    print(arr[i],end=' ')    "
   ]
  },
  {
   "cell_type": "markdown",
   "metadata": {},
   "source": [
    ">4\\.Write a Python Program to Split the array and add the first part to the end?"
   ]
  },
  {
   "cell_type": "code",
   "execution_count": null,
   "metadata": {},
   "outputs": [],
   "source": [
    "arr = []\n",
    "arr_size = int(input('Enter the size of the array'))\n",
    "for i in range(arr_size):\n",
    "    arr.append(int(input('Enter the elements')))\n",
    "print(f'Your elements are: {arr}')\n",
    "n=int(input('Enter the slicing point'))\n",
    "\n",
    "for i in range(0, n):    \n",
    "    first_element = arr[0];    \n",
    "        \n",
    "    for j in range(0, len(arr)-1):    \n",
    "        arr[j] = arr[j+1];    \n",
    " \n",
    "    arr[len(arr)-1] = first_element;      \n",
    "     \n",
    "print(\"Array after rotation: \");    \n",
    "for i in range(0, len(arr)):    \n",
    "    print(arr[i],end=' ')    "
   ]
  },
  {
   "cell_type": "markdown",
   "metadata": {},
   "source": [
    ">5\\.Write a Python Program to check if given array is Monotonic?"
   ]
  },
  {
   "cell_type": "code",
   "execution_count": 47,
   "metadata": {},
   "outputs": [
    {
     "name": "stdout",
     "output_type": "stream",
     "text": [
      "Your elements are: [2, 1, 3]\n",
      "Array is monotonic: False\n"
     ]
    }
   ],
   "source": [
    "arr = []\n",
    "ascending= descending = True\n",
    "arr_size = int(input('Enter the size of the array'))\n",
    "for i in range(arr_size):\n",
    "    arr.append(int(input('Enter the elements')))\n",
    "print(f'Your elements are: {arr}')\n",
    "\n",
    "for i in range(arr_size - 1):\n",
    "    if arr[i] > arr[i+1]:\n",
    "        ascending = False\n",
    "    if arr[i] < arr[i+1]:\n",
    "        descending = False\n",
    "print('Array is monotonic:', ascending or descending)\n",
    "\n",
    "        \n",
    "    \n",
    "    \n"
   ]
  }
 ],
 "metadata": {
  "interpreter": {
   "hash": "916dbcbb3f70747c44a77c7bcd40155683ae19c65e1c03b4aa3499c5328201f1"
  },
  "kernelspec": {
   "display_name": "Python 3.8.10 64-bit",
   "name": "python3"
  },
  "language_info": {
   "codemirror_mode": {
    "name": "ipython",
    "version": 3
   },
   "file_extension": ".py",
   "mimetype": "text/x-python",
   "name": "python",
   "nbconvert_exporter": "python",
   "pygments_lexer": "ipython3",
   "version": "3.8.10"
  },
  "orig_nbformat": 4
 },
 "nbformat": 4,
 "nbformat_minor": 2
}
