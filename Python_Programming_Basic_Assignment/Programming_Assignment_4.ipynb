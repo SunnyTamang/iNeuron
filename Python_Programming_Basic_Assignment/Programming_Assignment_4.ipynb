{
 "cells": [
  {
   "cell_type": "markdown",
   "metadata": {},
   "source": [
    "<h1 align='center'>Python Programming Basic Assignment 4</h1>\n",
    "\n",
    "***"
   ]
  },
  {
   "cell_type": "markdown",
   "metadata": {},
   "source": [
    ">1\\. Write a Python Program to Find the Factorial of a Number?"
   ]
  },
  {
   "cell_type": "code",
   "execution_count": 16,
   "metadata": {},
   "outputs": [
    {
     "name": "stdout",
     "output_type": "stream",
     "text": [
      "factorial of 5 is:  120\n"
     ]
    }
   ],
   "source": [
    "num = int(input('Enter any number'))\n",
    "mul=1\n",
    "if num < 0:\n",
    "    print('Input is negative please provide positive number')\n",
    "elif num == 0:\n",
    "    print('Factorial of 0 is 1')\n",
    "else:\n",
    "    for i in range(1,num+1):\n",
    "        mul = mul*i\n",
    "    print(f\"factorial of {num} is: \",mul)"
   ]
  },
  {
   "cell_type": "markdown",
   "metadata": {},
   "source": [
    ">2\\. Write a Python Program to Display the multiplication Table?"
   ]
  },
  {
   "cell_type": "code",
   "execution_count": 21,
   "metadata": {},
   "outputs": [
    {
     "name": "stdout",
     "output_type": "stream",
     "text": [
      "3 * 1 = 3\n",
      "3 * 2 = 6\n",
      "3 * 3 = 9\n",
      "3 * 4 = 12\n",
      "3 * 5 = 15\n",
      "3 * 6 = 18\n",
      "3 * 7 = 21\n",
      "3 * 8 = 24\n",
      "3 * 9 = 27\n",
      "3 * 10 = 30\n"
     ]
    }
   ],
   "source": [
    "num = int(input('Enter any number'))\n",
    "if num < 0:\n",
    "    print('Please provide a positive number')\n",
    "else:\n",
    "    for i in range(1,11):\n",
    "        print(f\"{num} * {i} = {num*i}\")"
   ]
  },
  {
   "cell_type": "markdown",
   "metadata": {},
   "source": [
    ">3\\. Write a Python Program to Print the Fibonacci sequence?"
   ]
  },
  {
   "cell_type": "code",
   "execution_count": 28,
   "metadata": {},
   "outputs": [
    {
     "name": "stdout",
     "output_type": "stream",
     "text": [
      "Fibonnaci sequence of length 5 is: \n",
      "0\n",
      "1\n",
      "1\n",
      "2\n",
      "3\n"
     ]
    }
   ],
   "source": [
    "length_of_series = int(input('Enter the lenght of the series'))\n",
    "el1, el2 = 0, 1\n",
    "c = 0\n",
    "if length_of_series <= 0:\n",
    "    print('Please provide positive number or greater than 0')\n",
    "elif length_of_series == 1:\n",
    "    print(f'Fibonnaci sequence of length {length_of_series} is: {el1}')\n",
    "else:\n",
    "    print(f'Fibonnaci sequence of length {length_of_series} is: ')\n",
    "    while c < length_of_series:\n",
    "        \n",
    "        print(el1)\n",
    "        updated_value = el1 + el2\n",
    "\n",
    "        el1 = el2\n",
    "        el2 = updated_value\n",
    "        c += 1\n",
    "\n",
    "\n"
   ]
  },
  {
   "cell_type": "markdown",
   "metadata": {},
   "source": [
    ">4\\. Write a Python Program to Check Armstrong Number?"
   ]
  },
  {
   "cell_type": "code",
   "execution_count": 55,
   "metadata": {},
   "outputs": [
    {
     "name": "stdout",
     "output_type": "stream",
     "text": [
      "120 is not an Armstrong number\n"
     ]
    }
   ],
   "source": [
    "num = int(input('Enter any number'))\n",
    "sum = 0\n",
    "temp = num\n",
    "while temp != 0:\n",
    "    digit = temp % 10\n",
    "    sum += digit ** len(str(num))\n",
    "    temp //= 10\n",
    "if num == sum:\n",
    "    print(f'{num} is an Armstrong number')\n",
    "else:\n",
    "    print(f'{num} is not an Armstrong number')"
   ]
  },
  {
   "cell_type": "markdown",
   "metadata": {},
   "source": [
    ">5\\. Write a Python Program to Find Armstrong Number in an Interval?"
   ]
  },
  {
   "cell_type": "code",
   "execution_count": 59,
   "metadata": {},
   "outputs": [
    {
     "name": "stdout",
     "output_type": "stream",
     "text": [
      "Armstrong number between 100 and 500 is:\n",
      "153\n",
      "370\n",
      "371\n",
      "407\n"
     ]
    }
   ],
   "source": [
    "lower_limit = int(input('Set lower limit'))\n",
    "upper_limit = int(input('Set upper limit'))\n",
    "print(f'Armstrong number between {lower_limit} and {upper_limit} is:')\n",
    "for i in range(lower_limit, upper_limit+1):\n",
    "    sum = 0\n",
    "    temp = i\n",
    "    while temp > 0:\n",
    "        digit = temp % 10\n",
    "        sum += digit ** len(str(i))\n",
    "        temp //= 10\n",
    "    if i == sum:\n",
    "        print(i)\n",
    "    "
   ]
  },
  {
   "cell_type": "markdown",
   "metadata": {},
   "source": [
    ">6\\. Write a Python Program to Find the Sum of Natural Numbers?"
   ]
  },
  {
   "cell_type": "code",
   "execution_count": 66,
   "metadata": {},
   "outputs": [
    {
     "name": "stdout",
     "output_type": "stream",
     "text": [
      "6\n"
     ]
    }
   ],
   "source": [
    "num = int(input('Enter any number'))\n",
    "if num <= 0:\n",
    "    print('Please provide number greater than 0')\n",
    "else:\n",
    "    print(int((num*(num+1))/2))"
   ]
  }
 ],
 "metadata": {
  "interpreter": {
   "hash": "916dbcbb3f70747c44a77c7bcd40155683ae19c65e1c03b4aa3499c5328201f1"
  },
  "kernelspec": {
   "display_name": "Python 3.8.10 64-bit",
   "name": "python3"
  },
  "language_info": {
   "codemirror_mode": {
    "name": "ipython",
    "version": 3
   },
   "file_extension": ".py",
   "mimetype": "text/x-python",
   "name": "python",
   "nbconvert_exporter": "python",
   "pygments_lexer": "ipython3",
   "version": "3.8.10"
  },
  "orig_nbformat": 4
 },
 "nbformat": 4,
 "nbformat_minor": 2
}
