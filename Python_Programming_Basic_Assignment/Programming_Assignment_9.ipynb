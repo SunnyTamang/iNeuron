{
 "cells": [
  {
   "cell_type": "markdown",
   "metadata": {},
   "source": [
    "<h1 align='center'>Python Programming Basic Assignment 9</h1>\n",
    "\n",
    "***"
   ]
  },
  {
   "cell_type": "markdown",
   "metadata": {},
   "source": [
    ">1\\. Write a Python program to check if the given number is a Disarium Number?"
   ]
  },
  {
   "cell_type": "code",
   "execution_count": 31,
   "metadata": {},
   "outputs": [
    {
     "name": "stdout",
     "output_type": "stream",
     "text": [
      "Given number:  175\n",
      "Length:  3\n",
      "Sum of its digit raised to the power of their respective positions is:  175\n",
      "Given number 175 is disarium number\n"
     ]
    }
   ],
   "source": [
    "# 1 ** 1 + 7 ** 2 + 5 ** 3 = 1 + 49 + 125 = 175\n",
    "\n",
    "num = int(input(\"Enter the number: \"))\n",
    "n = to_check_with = num\n",
    "length_of_number = 0\n",
    "print('Given number: ', num)\n",
    "while num != 0:\n",
    "    length_of_number += 1\n",
    "    num //= 10\n",
    "print('Length: ',length_of_number)\n",
    "sum = 0\n",
    "while n > 0:\n",
    "    rem = n % 10\n",
    "    sum += int(rem ** length_of_number)\n",
    "    n //= 10\n",
    "    length_of_number -= 1\n",
    "    # print(rem)\n",
    "print('Sum of its digit raised to the power of their respective positions is: ',sum)\n",
    "if to_check_with == sum:\n",
    "    print(f'Given number { to_check_with } is disarium number')\n",
    "else:\n",
    "    print(f'Given number { to_check_with } is not disarium number')\n"
   ]
  },
  {
   "cell_type": "markdown",
   "metadata": {},
   "source": [
    ">2\\. Write a Python program to print all disarium numbers between 1 to 100?"
   ]
  },
  {
   "cell_type": "code",
   "execution_count": 35,
   "metadata": {},
   "outputs": [
    {
     "name": "stdout",
     "output_type": "stream",
     "text": [
      "1\n",
      "2\n",
      "3\n",
      "4\n",
      "5\n",
      "6\n",
      "7\n",
      "8\n",
      "9\n",
      "89\n"
     ]
    }
   ],
   "source": [
    "for i in range(1,101):\n",
    "    n = to_check_with = i\n",
    "    length_of_number = 0\n",
    "    while i != 0:\n",
    "        length_of_number += 1\n",
    "        i //= 10\n",
    "    # print('Length: ',length_of_number)\n",
    "    sum = 0\n",
    "    while n > 0:\n",
    "        rem = n % 10\n",
    "        sum += int(rem ** length_of_number)\n",
    "        n //= 10\n",
    "        length_of_number -= 1\n",
    "        # print(rem)\n",
    "    # print('Sum of its digit raised to the power of their respective positions is: ',sum)\n",
    "    if to_check_with == sum:\n",
    "        print(sum)\n",
    "    "
   ]
  },
  {
   "cell_type": "markdown",
   "metadata": {},
   "source": [
    ">3\\. Write a Python program to check if the given number is Happy Number?"
   ]
  },
  {
   "cell_type": "code",
   "execution_count": 36,
   "metadata": {},
   "outputs": [
    {
     "name": "stdout",
     "output_type": "stream",
     "text": [
      "18 is not a happy number\n"
     ]
    }
   ],
   "source": [
    "def check_length(n):\n",
    "    length = 0\n",
    "    while n != 0:\n",
    "        n //= 10\n",
    "        length += 1\n",
    "    return length\n",
    "\n",
    "def give_last_digit(n,length):\n",
    "    sum = rem = 0\n",
    "    # num = n\n",
    "    while n > 0:\n",
    "        rem = n % 10\n",
    "        sum = sum + int(rem ** 2)\n",
    "        n //= 10\n",
    "    # print(sum)\n",
    "    if check_length(sum) == 1:\n",
    "        if(sum == 1):\n",
    "            print(f'{num} is a happy number')\n",
    "        else:\n",
    "            print(f'{num} is not a happy number')\n",
    "    else:\n",
    "        give_last_digit(sum,check_length(sum))\n",
    "    # return sum\n",
    "    # print(sum)\n",
    "\n",
    "global num\n",
    "num = int(input('Enter any number'))\n",
    "length_of_number = check_length(num)\n",
    "# print(length_of_number)\n",
    "sum = give_last_digit(num,length_of_number)\n",
    "# print(sum)"
   ]
  },
  {
   "cell_type": "markdown",
   "metadata": {},
   "source": [
    ">4\\. Write a Python program to print all happy numbers between 1 and 100?"
   ]
  },
  {
   "cell_type": "code",
   "execution_count": 83,
   "metadata": {},
   "outputs": [
    {
     "name": "stdout",
     "output_type": "stream",
     "text": [
      "1\n",
      "7\n",
      "10\n",
      "13\n",
      "19\n",
      "23\n",
      "28\n",
      "31\n",
      "32\n",
      "44\n",
      "49\n",
      "68\n",
      "70\n",
      "79\n",
      "82\n",
      "86\n",
      "91\n",
      "94\n",
      "97\n",
      "100\n"
     ]
    }
   ],
   "source": [
    "def check_length(n):\n",
    "    length = 0\n",
    "    while n != 0:\n",
    "        n //= 10\n",
    "        length += 1\n",
    "    return length\n",
    "\n",
    "def give_last_digit(n,l):\n",
    "    sum = rem = 0\n",
    "    # num = n\n",
    "    while n > 0:\n",
    "        rem = n % 10\n",
    "        sum = sum + int(rem ** 2)\n",
    "        n //= 10\n",
    "    # print(sum)\n",
    "    if check_length(sum) == 1:\n",
    "        \n",
    "        return sum\n",
    "        \n",
    "    else:\n",
    "        return give_last_digit(sum,check_length(sum))\n",
    "\n",
    "    \n",
    "   \n",
    "\n",
    "\n",
    "for i in range(1,101):   \n",
    "    total=0\n",
    "    length_of_number = check_length(i)\n",
    "    \n",
    "    total = give_last_digit(i,length_of_number)\n",
    "    # print('total',total)\n",
    "    if total == 1:\n",
    "        print(i)\n",
    "    \n"
   ]
  }
 ],
 "metadata": {
  "interpreter": {
   "hash": "916dbcbb3f70747c44a77c7bcd40155683ae19c65e1c03b4aa3499c5328201f1"
  },
  "kernelspec": {
   "display_name": "Python 3.8.10 64-bit",
   "language": "python",
   "name": "python3"
  },
  "language_info": {
   "codemirror_mode": {
    "name": "ipython",
    "version": 3
   },
   "file_extension": ".py",
   "mimetype": "text/x-python",
   "name": "python",
   "nbconvert_exporter": "python",
   "pygments_lexer": "ipython3",
   "version": "3.8.10"
  },
  "orig_nbformat": 4
 },
 "nbformat": 4,
 "nbformat_minor": 2
}
