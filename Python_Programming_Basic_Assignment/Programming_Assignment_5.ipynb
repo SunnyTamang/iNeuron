{
 "cells": [
  {
   "cell_type": "markdown",
   "metadata": {},
   "source": [
    "<h1 align='center'>Python Programming Basic Assignment 5</h1>\n",
    "\n",
    "***"
   ]
  },
  {
   "cell_type": "markdown",
   "metadata": {},
   "source": [
    ">1\\. Write a Python Program to Find LCM?"
   ]
  },
  {
   "cell_type": "code",
   "execution_count": 80,
   "metadata": {},
   "outputs": [
    {
     "name": "stdout",
     "output_type": "stream",
     "text": [
      "L.C.M of 12 and 36 is 36\n"
     ]
    }
   ],
   "source": [
    "num1 = int(input('Enter first number'))\n",
    "num2 = int(input('Enter second number'))\n",
    "if num1 > num2:\n",
    "    greater = num1\n",
    "else:\n",
    "    greater = num2\n",
    "while True:\n",
    "    # print(greater%num2)\n",
    "    if (greater % num1 == 0) and (greater % num2 == 0):\n",
    "        print(f'L.C.M of {num1} and {num2} is {greater}')\n",
    "        break\n",
    "    greater += 1"
   ]
  },
  {
   "cell_type": "markdown",
   "metadata": {},
   "source": [
    ">2\\. Write a Python Program to Find HCF?"
   ]
  },
  {
   "cell_type": "code",
   "execution_count": 81,
   "metadata": {},
   "outputs": [
    {
     "name": "stdout",
     "output_type": "stream",
     "text": [
      "H.C.F of 12 and 36 is 12\n"
     ]
    }
   ],
   "source": [
    "num1 = int(input('Enter first number'))\n",
    "num2 = int(input('Enter second number'))\n",
    "n1 = num1\n",
    "n2 = num2\n",
    "\n",
    "while num2 != 0:\n",
    "    temp = num2\n",
    "    num2 = num1 % num2\n",
    "    num1 = temp\n",
    "print(f'H.C.F of {n1} and {n2} is {num1}')"
   ]
  },
  {
   "cell_type": "markdown",
   "metadata": {},
   "source": [
    ">3\\. Write a Python Program to Convert Decimal to Binary, Octal and Hexadecimal?"
   ]
  },
  {
   "cell_type": "code",
   "execution_count": 8,
   "metadata": {},
   "outputs": [
    {
     "name": "stdout",
     "output_type": "stream",
     "text": [
      "Binary representation of 44 is:\n",
      "101100\n",
      "Octal representation of 44 is:\n",
      "54\n",
      "Hexa representation of 44 is:\n",
      "2C\n"
     ]
    }
   ],
   "source": [
    "def binary(num):\n",
    "    n=num\n",
    "    binary=[]\n",
    "    while n >= 1:\n",
    "        if n % 2 == 0:\n",
    "            binary.append(0)\n",
    "            \n",
    "        else:\n",
    "            binary.append(1)\n",
    "            \n",
    "        n //=2\n",
    "    binary.reverse()\n",
    "    print(f'Binary representation of {num} is:')\n",
    "    for i in binary:\n",
    "        print(i,end='')\n",
    "\n",
    "def octal(num):\n",
    "    n=num\n",
    "    octal=[]\n",
    "    while n >=1:\n",
    "        if n % 8 == 0:\n",
    "            octal.append(0)\n",
    "            \n",
    "        else:\n",
    "            # if(n < 8):\n",
    "            octal.append(n%8)\n",
    "            \n",
    "        n //=8\n",
    "    octal.reverse()\n",
    "    print(f'Octal representation of {num} is:')\n",
    "    for i in octal:\n",
    "        print(i,end='')\n",
    "\n",
    "def hexa(num):\n",
    "    n=num\n",
    "    hexa=['0', '1', '2', '3', '4', '5', '6', '7', '8', '9', 'A' , 'B', 'C', 'D', 'E', 'F']\n",
    "    hex=''\n",
    "    while(n > 0):\n",
    "        div = n % 16\n",
    "        hex = hexa[div] + hex\n",
    "        n //= 16\n",
    "    print(f'Hexa representation of {num} is:\\n{hex}')\n",
    "    \n",
    "\n",
    "num = int(input('Enter the decimal number'))\n",
    "# n=num\n",
    "binary(num)\n",
    "print(end='\\n')\n",
    "octal(num)\n",
    "print(end='\\n')\n",
    "hexa(num)"
   ]
  },
  {
   "cell_type": "markdown",
   "metadata": {},
   "source": [
    ">4\\. Write a Python Program To Find ASCII value of a character?"
   ]
  },
  {
   "cell_type": "code",
   "execution_count": 14,
   "metadata": {},
   "outputs": [
    {
     "name": "stdout",
     "output_type": "stream",
     "text": [
      "A\n"
     ]
    }
   ],
   "source": [
    "character = int(input('Enter any ASCII value'))\n",
    "print(chr(character))"
   ]
  },
  {
   "cell_type": "markdown",
   "metadata": {},
   "source": [
    ">5\\. Write a Python Program to Make a Simple Calculator with 4 basic mathematical operations?"
   ]
  },
  {
   "cell_type": "code",
   "execution_count": 24,
   "metadata": {},
   "outputs": [
    {
     "name": "stdout",
     "output_type": "stream",
     "text": [
      "Select operation\n",
      "type any option:\n",
      " -add\n",
      " -substract\n",
      " -multiply\n",
      " -division\n",
      "Division of 12 and 12 is 1.0\n"
     ]
    }
   ],
   "source": [
    "def add(num1, num2):\n",
    "    print(f'Addition of {num1} and {num2} is {num1 + num2}')\n",
    "\n",
    "def subtract(num1, num2):\n",
    "    print(f'Subtraction of {num1} and {num2} is {num1 - num2}')\n",
    "\n",
    "def multiply(num1, num2):\n",
    "    print(f'Multiplication of {num1} and {num2} is {num1 * num2}')\n",
    "\n",
    "def division(num1, num2):\n",
    "    print(f'Division of {num1} and {num2} is {num1 / num2}')\n",
    "\n",
    "\n",
    "num1 = int(input('Input first number'))\n",
    "num2 = int(input('Input second number'))\n",
    "operations = ['add', 'subtract', 'multiply', 'division']\n",
    "print('Select operation')\n",
    "print('type any option:\\n -add\\n -substract\\n -multiply\\n -division')\n",
    "operation = input('Enter any operation from above').lower()\n",
    "if operation in operations:\n",
    "    if operation == 'add':\n",
    "        add(num1, num2)\n",
    "    elif operation == 'subtract':\n",
    "        subtract(num1, num2)\n",
    "    elif operation == 'multiply':\n",
    "        multiply(num1, num2)\n",
    "    elif operation == 'division':\n",
    "        division(num1, num2)\n",
    "    else:\n",
    "        print('Please choose the operation correctly! Please try again!')"
   ]
  }
 ],
 "metadata": {
  "interpreter": {
   "hash": "916dbcbb3f70747c44a77c7bcd40155683ae19c65e1c03b4aa3499c5328201f1"
  },
  "kernelspec": {
   "display_name": "Python 3.8.10 64-bit",
   "name": "python3"
  },
  "language_info": {
   "codemirror_mode": {
    "name": "ipython",
    "version": 3
   },
   "file_extension": ".py",
   "mimetype": "text/x-python",
   "name": "python",
   "nbconvert_exporter": "python",
   "pygments_lexer": "ipython3",
   "version": "3.8.10"
  },
  "orig_nbformat": 4
 },
 "nbformat": 4,
 "nbformat_minor": 2
}
