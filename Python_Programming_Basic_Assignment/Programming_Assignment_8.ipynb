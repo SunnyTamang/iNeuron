{
 "cells": [
  {
   "cell_type": "markdown",
   "metadata": {},
   "source": [
    "<h1 align='center'>Python Programming Basic Assignment 8</h1>\n",
    "\n",
    "***"
   ]
  },
  {
   "cell_type": "markdown",
   "metadata": {},
   "source": [
    ">1\\.Write a Python Program to Add Two Matrices?"
   ]
  },
  {
   "cell_type": "code",
   "execution_count": 8,
   "metadata": {},
   "outputs": [
    {
     "name": "stdout",
     "output_type": "stream",
     "text": [
      "Enter the elements for first matrix:\n",
      "your first matrix\n",
      "1 1 \n",
      "2 2 \n",
      "Enter the elements for second matrix:\n",
      "your second matrix\n",
      "1 1 \n",
      "2 2 \n",
      "The Sum of Above two Matrices is : \n",
      "2 2 \n",
      "4 4 \n"
     ]
    }
   ],
   "source": [
    "row_first_matrix = int(input(\"Enter the number of rows for first matrix:\"))\n",
    "column_first_matrix = int(input(\"Enter the number of columns for first matrix:\"))\n",
    "matrix = []\n",
    "print(\"Enter the elements for first matrix:\")\n",
    "for i in range(row_first_matrix):          \n",
    "    a =[]\n",
    "    for j in range(column_first_matrix):      \n",
    "         a.append(int(input()))\n",
    "    matrix.append(a)\n",
    "\n",
    "print('your first matrix')\n",
    "for i in range(row_first_matrix):\n",
    "    for j in range(column_first_matrix):\n",
    "        print(matrix[i][j], end = \" \")\n",
    "    print()\n",
    "row_second_matrix = int(input(\"Enter the number of rows for second matrix:\"))\n",
    "column_second_matrix = int(input(\"Enter the number of columns for second matrix:\"))\n",
    "matrix2 = []\n",
    "print(\"Enter the elements for second matrix:\")\n",
    "for i in range(row_first_matrix):          \n",
    "    a2 =[]\n",
    "    for j in range(column_first_matrix):      \n",
    "         a2.append(int(input()))\n",
    "    matrix2.append(a2)\n",
    "\n",
    "print('your second matrix')\n",
    "for i in range(row_first_matrix):\n",
    "    for j in range(column_first_matrix):\n",
    "        print(matrix2[i][j], end = \" \")\n",
    "    print()\n",
    "\n",
    "# Adding\n",
    "result=[[0 for i in range(column_first_matrix)] for i in range(row_first_matrix)]\n",
    "\n",
    "for i in range(row_first_matrix):\n",
    "    for j in range(column_first_matrix):\n",
    "        result[i][j] = matrix[i][j]+matrix2[i][j]\n",
    "\n",
    "print(\"The Sum of Above two Matrices is : \")\n",
    "# for r in range(result):\n",
    "#     print(r[i][j])\n",
    "\n",
    "for i in range(row_first_matrix):\n",
    "    for j in range(column_first_matrix):\n",
    "        print(result[i][j], end = \" \")\n",
    "    print()\n"
   ]
  },
  {
   "cell_type": "markdown",
   "metadata": {},
   "source": [
    ">2\\.Write a Python Program to Multiply Two Matrices?"
   ]
  },
  {
   "cell_type": "code",
   "execution_count": 65,
   "metadata": {},
   "outputs": [
    {
     "name": "stdout",
     "output_type": "stream",
     "text": [
      "Enter the elements for first matrix:\n",
      "your first matrix\n",
      "\n",
      "1 1 \n",
      "2 2 \n",
      "Enter the elements for second matrix:\n",
      "your second matrix\n",
      "\n",
      "1 2 3 \n",
      "1 2 3 \n",
      "Matrix multiplication of first and second matrix: \n",
      "\n",
      "2 4 6 \n",
      "4 8 12 \n"
     ]
    }
   ],
   "source": [
    "row_first_matrix = int(input(\"Enter the number of rows for first matrix:\"))\n",
    "column_first_matrix = int(input(\"Enter the number of columns for first matrix:\"))\n",
    "matrix = []\n",
    "print(\"Enter the elements for first matrix:\")\n",
    "for i in range(row_first_matrix):          \n",
    "    a =[]\n",
    "    for j in range(column_first_matrix):      \n",
    "         a.append(int(input()))\n",
    "    matrix.append(a)\n",
    "\n",
    "print('your first matrix\\n')\n",
    "for i in range(row_first_matrix):\n",
    "    for j in range(column_first_matrix):\n",
    "        print(matrix[i][j], end = \" \")\n",
    "    print()\n",
    "\n",
    "\n",
    "\n",
    "row_second_matrix = int(input(\"Enter the number of rows for second matrix:\"))\n",
    "column_second_matrix = int(input(\"Enter the number of columns for second matrix:\"))\n",
    "matrix2 = []\n",
    "print(\"Enter the elements for second matrix:\")\n",
    "for i in range(row_second_matrix):          \n",
    "    a2 =[]\n",
    "    for j in range(column_second_matrix):      \n",
    "         a2.append(int(input()))\n",
    "    matrix2.append(a2)\n",
    "\n",
    "print('your second matrix\\n')\n",
    "for i in range(row_second_matrix):\n",
    "    for j in range(column_second_matrix):\n",
    "        print(matrix2[i][j], end = \" \")\n",
    "    print()\n",
    "\n",
    "# New matrix\n",
    "results = []\n",
    "while len(results) < row_first_matrix:\n",
    "        results.append([])\n",
    "        while len(results[-1]) < column_second_matrix:\n",
    "            results[-1].append(0.0)\n",
    "\n",
    "if len(matrix[0]) != len(matrix2):\n",
    "    print('Number of columns of first matrix must be equal to the number of rows of second matrix.')\n",
    "else:    \n",
    "    for i in range(len(matrix)):\n",
    "        for j in range(len(matrix2[0])):\n",
    "            total = 0\n",
    "            for k in range(len(matrix)):\n",
    "                total += matrix[i][k] * matrix2[k][j]\n",
    "            results[i][j] = total\n",
    "\n",
    "    print('Matrix multiplication of first and second matrix: \\n')\n",
    "\n",
    "    for i in range(row_first_matrix):\n",
    "        for j in range(column_second_matrix):\n",
    "            print(results[i][j], end = \" \")\n",
    "        print()\n",
    "\n",
    "\n"
   ]
  },
  {
   "cell_type": "markdown",
   "metadata": {},
   "source": [
    ">3\\.Write a Python Program to Transpose a Matrix?"
   ]
  },
  {
   "cell_type": "code",
   "execution_count": 39,
   "metadata": {},
   "outputs": [
    {
     "name": "stdout",
     "output_type": "stream",
     "text": [
      "Enter the elements for first matrix:\n",
      "your first matrix\n",
      "1 2 3 \n",
      "4 5 6 \n",
      "7 8 9 \n",
      "Transpose matrix is: \n",
      "1 4 7 \n",
      "2 5 8 \n",
      "3 6 9 \n"
     ]
    }
   ],
   "source": [
    "row_first_matrix = int(input(\"Enter the number of rows for first matrix:\"))\n",
    "column_first_matrix = int(input(\"Enter the number of columns for first matrix:\"))\n",
    "matrix = []\n",
    "print(\"Enter the elements for first matrix:\")\n",
    "for i in range(row_first_matrix):          \n",
    "    a =[]\n",
    "    for j in range(column_first_matrix):      \n",
    "         a.append(int(input()))\n",
    "    matrix.append(a)\n",
    "\n",
    "print('your first matrix')\n",
    "for i in range(row_first_matrix):\n",
    "    for j in range(column_first_matrix):\n",
    "        print(matrix[i][j], end = \" \")\n",
    "    print()\n",
    "\n",
    "result =[[0 for i in range(row_first_matrix)] for j in range(column_first_matrix)]\n",
    "\n",
    "\n",
    "for r in range(row_first_matrix):\n",
    "   \n",
    "   for c in range(column_first_matrix):\n",
    "       result[c][r] = matrix[r][c]\n",
    "\n",
    "print(\"Transpose matrix is: \")\n",
    "# for r in result:\n",
    "#     print(r)\n",
    "for i in range(row_first_matrix):\n",
    "    for j in range(column_first_matrix):\n",
    "        print(result[i][j], end = \" \")\n",
    "    print()"
   ]
  },
  {
   "cell_type": "markdown",
   "metadata": {},
   "source": [
    ">4\\.Write a Python Program to Sort Words in Alphabetic Order?"
   ]
  },
  {
   "cell_type": "code",
   "execution_count": 40,
   "metadata": {},
   "outputs": [
    {
     "name": "stdout",
     "output_type": "stream",
     "text": [
      "The sorted words are:\n",
      "a\n",
      "have\n",
      "is\n",
      "something\n",
      "this\n",
      "to\n",
      "want\n",
      "we\n"
     ]
    }
   ],
   "source": [
    "words = input('Enter the string')\n",
    "\n",
    "words_to_sort = [word.lower() for word in words.split()]\n",
    "words_to_sort.sort()\n",
    "print(\"The sorted words are:\")\n",
    "for word in words_to_sort:\n",
    "   print(word)"
   ]
  },
  {
   "cell_type": "markdown",
   "metadata": {},
   "source": [
    ">5\\.Write a Python Program to Remove Punctuation From a String?"
   ]
  },
  {
   "cell_type": "code",
   "execution_count": 66,
   "metadata": {},
   "outputs": [
    {
     "name": "stdout",
     "output_type": "stream",
     "text": [
      "String with out punctuation:\n",
      "thai  hsdhf  sfh\n"
     ]
    }
   ],
   "source": [
    "list_of_punctuations = '''!()-[]{};:'\"\\,<>./?@#$%^&*_~'''\n",
    "\n",
    "string_to_correct = input(\"Enter a string with punctuation\")\n",
    "\n",
    "no_punctuation = \"\"\n",
    "for char in string_to_correct:\n",
    "   if char not in list_of_punctuations:\n",
    "       no_punctuation = no_punctuation + char\n",
    "\n",
    "print(f'String with out punctuation:\\n{no_punctuation}')\n"
   ]
  }
 ],
 "metadata": {
  "interpreter": {
   "hash": "916dbcbb3f70747c44a77c7bcd40155683ae19c65e1c03b4aa3499c5328201f1"
  },
  "kernelspec": {
   "display_name": "Python 3.8.10 64-bit",
   "name": "python3"
  },
  "language_info": {
   "codemirror_mode": {
    "name": "ipython",
    "version": 3
   },
   "file_extension": ".py",
   "mimetype": "text/x-python",
   "name": "python",
   "nbconvert_exporter": "python",
   "pygments_lexer": "ipython3",
   "version": "3.8.10"
  },
  "orig_nbformat": 4
 },
 "nbformat": 4,
 "nbformat_minor": 2
}
